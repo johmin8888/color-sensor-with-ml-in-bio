{
 "cells": [
  {
   "cell_type": "markdown",
   "metadata": {},
   "source": [
    "# Data Visualization Program"
   ]
  },
  {
   "cell_type": "markdown",
   "metadata": {},
   "source": [
    "# 1. Settings"
   ]
  },
  {
   "cell_type": "markdown",
   "metadata": {},
   "source": [
    "## 1.1. Import modules"
   ]
  },
  {
   "cell_type": "code",
   "execution_count": 1,
   "metadata": {},
   "outputs": [],
   "source": [
    "import os\n",
    "import numpy as np\n",
    "import pandas as pd\n",
    "import matplotlib.pyplot as plt\n",
    "import seaborn as sns"
   ]
  },
  {
   "cell_type": "markdown",
   "metadata": {},
   "source": [
    "## 1.2. Hyperparameters"
   ]
  },
  {
   "cell_type": "code",
   "execution_count": 2,
   "metadata": {},
   "outputs": [],
   "source": [
    "# Data\n",
    "DATA_DIRECTORY = os.path.join(\"..\", \"data\")\n",
    "DOCUMENT_DIRECTORY = os.path.join(\"..\", \"docs\")\n",
    "DATASET_NAME = \"Bradford-200uL-1\"\n",
    "REFERENCE_FILE = f\"reference_corrected_{DATASET_NAME}.csv\"\n",
    "\n",
    "# Plot\n",
    "NAME_OF_LABEL = \"Protein Concentration\"\n",
    "LABEL_UNIT = \"\\u03BCg/mL\"\n",
    "TITLE_FONT = {'fontname':'Times New Roman', 'size':'16', 'color':'black', 'weight':'heavy'}\n",
    "AXIS_FONT = {'fontname':'Times New Roman', 'size':'12', 'weight':'heavy'}\n",
    "LEGEND_FONT = {'family': 'Times New Roman', 'size': 12}"
   ]
  },
  {
   "cell_type": "markdown",
   "metadata": {},
   "source": [
    "## 1.3. Define functions"
   ]
  },
  {
   "cell_type": "markdown",
   "metadata": {},
   "source": [
    "### 1.3.1. Save figure"
   ]
  },
  {
   "cell_type": "code",
   "execution_count": 3,
   "metadata": {},
   "outputs": [],
   "source": [
    "# Define a function to save figure\n",
    "def save_fig(fig, fig_name, dataset_name, docs_dir):\n",
    "    try:\n",
    "        # Create /docs directory if doesn't exist\n",
    "        if not os.path.exists(docs_dir):\n",
    "            os.makedirs(docs_dir)\n",
    "            print(f\"Document directory is created at: {docs_dir}\")\n",
    "        \n",
    "        # Create /dataset document directory if doesn't exist\n",
    "        dataset_docs_dir = os.path.join(docs_dir, dataset_name)\n",
    "        if not os.path.exists(dataset_docs_dir):\n",
    "            os.makedirs(dataset_docs_dir)\n",
    "            print(f\"{dataset_name} directory is created at: {dataset_docs_dir}\")\n",
    "\n",
    "        # Save the figure\n",
    "        fig_file = os.path.join(dataset_docs_dir, f\"{fig_name}_{dataset_name}.png\")\n",
    "        fig.savefig(fig_file, dpi=300)\n",
    "        print(f\"Figure saved at: {os.path.abspath(fig_file)}\")\n",
    "\n",
    "    except Exception as e:\n",
    "        print(\"Saving figure error occurred: {e}\")"
   ]
  },
  {
   "cell_type": "markdown",
   "metadata": {},
   "source": [
    "### 1.3.2. Convert color space"
   ]
  },
  {
   "cell_type": "code",
   "execution_count": 4,
   "metadata": {},
   "outputs": [],
   "source": [
    "# Method to convert RGB to CMYK\n",
    "def rgb_to_cmyk(r, g, b):\n",
    "    # Normalize RGB values\n",
    "    r = r / 255.0\n",
    "    g = g / 255.0\n",
    "    b = b / 255.0\n",
    "\n",
    "    # Convert RGB to CMYK\n",
    "    # Black\n",
    "    k = 1 - max(r, g, b)\n",
    "\n",
    "    # Cyan\n",
    "    c = (1 - r - k) / (1 - k) if k != 1 else 0\n",
    "\n",
    "    # Magenta\n",
    "    m = (1 - g - k) / (1 - k) if k != 1 else 0\n",
    "\n",
    "    # Yellow\n",
    "    y = (1 - b - k) / (1 - k) if k != 1 else 0\n",
    "\n",
    "    # Return CMYK color\n",
    "    return c, m, y, k\n",
    "\n",
    "# Method to convert CMYK to RGB\n",
    "def cmyk_to_rgb(c, m, y, k):\n",
    "    # Convert CMYK to RGB\n",
    "    r = 255 * (1-c) * (1-k)\n",
    "    g = 255 * (1-m) * (1-k)\n",
    "    b = 255 * (1-y) * (1-k)\n",
    "\n",
    "    # Ensure r, g, b are within the valid range [0, 255]\n",
    "    r = min(max(0, r), 255)\n",
    "    g = min(max(0, g), 255)\n",
    "    b = min(max(0, b), 255)\n",
    "\n",
    "    return int(r), int(g), int(b)\n",
    "\n",
    "# Method to convert RGB to HSL\n",
    "def rgb_to_hsl(r, g, b):\n",
    "        r /= 255\n",
    "        g /= 255\n",
    "        b /= 255\n",
    "        max_val = max(r, g, b)\n",
    "        min_val = min(r, g, b)\n",
    "        diff = max_val - min_val\n",
    "        h = s = l = (max_val + min_val) / 2\n",
    "\n",
    "        if max_val == min_val:\n",
    "            h = s = 0  # achromatic\n",
    "        else:\n",
    "            # saturation calculation\n",
    "            if l > 0.5:\n",
    "                s = diff / (2 - max_val - min_val)\n",
    "            else:\n",
    "                s = diff / (max_val + min_val)\n",
    "            \n",
    "            # hue calculation\n",
    "            if max_val == r:\n",
    "                h = (g - b) / diff + (g < b) * 6\n",
    "            elif max_val == g:\n",
    "                h = (b - r) / diff + 2\n",
    "            else:\n",
    "                h = (r - g) / diff + 4\n",
    "\n",
    "            h /= 6\n",
    "\n",
    "        return h, s, l\n",
    "\n",
    "# Method to convert HSL to RGB\n",
    "def hsl_to_rgb(h, s, l):\n",
    "    if s == 0:\n",
    "        r = g = b = l  # achromatic\n",
    "    else:\n",
    "        def hue_to_rgb(p, q, t):\n",
    "            if t < 0:\n",
    "                t += 1\n",
    "            if t > 1:\n",
    "                t -= 1\n",
    "            if t < 1 / 6:\n",
    "                return p + (q - p) * 6 * t\n",
    "            if t < 1 / 2:\n",
    "                return q\n",
    "            if t < 2 / 3:\n",
    "                return p + (q - p) * (2 / 3 - t) * 6\n",
    "            return p\n",
    "\n",
    "        q = l < 0.5 and l * (1 + s) or l + s - l * s\n",
    "        p = 2 * l - q\n",
    "        r = hue_to_rgb(p, q, h + 1 / 3)\n",
    "        g = hue_to_rgb(p, q, h)\n",
    "        b = hue_to_rgb(p, q, h - 1 / 3)\n",
    "\n",
    "    return int(r * 255), int(g * 255), int(b * 255)\n",
    "\n",
    "# Method to convert RGB to HSV\n",
    "def rgb_to_hsv(r, g, b):\n",
    "    r /= 255.0\n",
    "    g /= 255.0\n",
    "    b /= 255.0\n",
    "    \n",
    "    max_val = max(r, g, b)\n",
    "    min_val = min(r, g, b)\n",
    "    diff = max_val - min_val\n",
    "    \n",
    "    if max_val == min_val:\n",
    "        h = 0\n",
    "    elif max_val == r:\n",
    "        h = ((60 * ((g-b)/diff) + 360) % 360) / 360.0\n",
    "    elif max_val == g:\n",
    "        h = ((60 * ((b-r)/diff) + 120) % 360) / 360.0\n",
    "    elif max_val == b:\n",
    "        h = ((60 * ((r-g)/diff) + 240) % 360) / 360.0\n",
    "\n",
    "    if max_val == 0:\n",
    "        s = 0\n",
    "    else:\n",
    "        s = diff/max_val\n",
    "\n",
    "    v = max_val\n",
    "\n",
    "    return h, s, v\n",
    "\n",
    "# Method to convert HSV to RGB\n",
    "def hsv_to_rgb(h, s, v):\n",
    "    # When saturation is 0, the color is a shade of gray\n",
    "    if s == 0:\n",
    "        r = g = b = v\n",
    "        return r, g, b\n",
    "\n",
    "    # Find which sector of the color circle the hue is in\n",
    "    sector = h * 6.0\n",
    "    i = int(sector)\n",
    "    f = sector - i\n",
    "\n",
    "    p = v * (1.0 - s)\n",
    "    q = v * (1.0 - s * f)\n",
    "    t = v * (1.0 - s * (1.0 - f))\n",
    "\n",
    "    if i == 0:\n",
    "        r, g, b = v, t, p\n",
    "    elif i == 1:\n",
    "        r, g, b = q, v, p\n",
    "    elif i == 2:\n",
    "        r, g, b = p, v, t\n",
    "    elif i == 3:\n",
    "        r, g, b = p, q, v\n",
    "    elif i == 4:\n",
    "        r, g, b = t, p, v\n",
    "    else:\n",
    "        r, g, b = v, p, q\n",
    "\n",
    "    return int(r * 255), int(g * 255), int(b * 255)\n",
    "\n",
    "# Method to convert RGB to CIELAB\n",
    "def rgb_to_lab(r, g, b):\n",
    "    # Gamma correction\n",
    "    rgb = [c / 255.0 for c in [r, g, b]]\n",
    "    for i in range(3):\n",
    "        if rgb[i] <= 0.04045:\n",
    "            rgb[i] /= 12.92\n",
    "        else:\n",
    "            rgb[i] = ((rgb[i] + 0.055) / 1.055) ** 2.4\n",
    "\n",
    "    # RGB to CIEXYZ\n",
    "    X = 0.4124 * rgb[0] + 0.3576 * rgb[1] + 0.1805 * rgb[2]\n",
    "    Y = 0.2126 * rgb[0] + 0.7152 * rgb[1] + 0.0722 * rgb[2]\n",
    "    Z = 0.0193 * rgb[0] + 0.1192 * rgb[1] + 0.9505 * rgb[2]\n",
    "\n",
    "    # Normalize for D65 illuminant\n",
    "    X /= 0.95047\n",
    "    Y /= 1.00000\n",
    "    Z /= 1.08883\n",
    "\n",
    "    X_trans = X ** (1/3) if X > 0.008856 else 7.787 * X + 16/116\n",
    "    Y_trans = Y ** (1/3) if Y > 0.008856 else 7.787 * Y + 16/116\n",
    "    Z_trans = Z ** (1/3) if Z > 0.008856 else 7.787 * Z + 16/116\n",
    "\n",
    "    L = 116.0 * Y_trans - 16.0\n",
    "    a = 500.0 * (X_trans - Y_trans)\n",
    "    b = 200.0 * (Y_trans - Z_trans)\n",
    "\n",
    "    return L, a, b\n",
    "\n",
    "# Method to convert CIELAB to RGB\n",
    "def lab_to_rgb(L, a, b):\n",
    "    # CIELAB to CIEXYZ\n",
    "    Y = (L + 16) / 116\n",
    "    X = a / 500 + Y\n",
    "    Z = Y - b / 200\n",
    "    \n",
    "    if Y**3 > 0.008856:\n",
    "        Y = Y**3\n",
    "    else:\n",
    "        Y = (Y - 16/116) / 7.787\n",
    "    \n",
    "    if X**3 > 0.008856:\n",
    "        X = X**3\n",
    "    else:\n",
    "        X = (X - 16/116) / 7.787\n",
    "        \n",
    "    if Z**3 > 0.008856:\n",
    "        Z = Z**3\n",
    "    else:\n",
    "        Z = (Z - 16/116) / 7.787\n",
    "        \n",
    "    # D65 illuminant\n",
    "    X = X * 0.95047\n",
    "    Y = Y * 1.00000\n",
    "    Z = Z * 1.08883\n",
    "    \n",
    "    # CIEXYZ to linear RGB\n",
    "    r = X *  3.2406 + Y * -1.5372 + Z * -0.4986\n",
    "    g = X * -0.9689 + Y *  1.8758 + Z *  0.0415\n",
    "    b = X *  0.0557 + Y * -0.2040 + Z *  1.0570\n",
    "    \n",
    "    # Apply gamma correction on linear RGB values\n",
    "    if r > 0.0031308:\n",
    "        r = 1.055 * (r**(1/2.4)) - 0.055\n",
    "    else:\n",
    "        r = 12.92 * r\n",
    "        \n",
    "    if g > 0.0031308:\n",
    "        g = 1.055 * (g**(1/2.4)) - 0.055\n",
    "    else:\n",
    "        g = 12.92 * g\n",
    "        \n",
    "    if b > 0.0031308:\n",
    "        b = 1.055 * (b**(1/2.4)) - 0.055\n",
    "    else:\n",
    "        b = 12.92 * b\n",
    "        \n",
    "    # Convert these values to the range [0, 255]\n",
    "    r = min(max(int(r * 255), 0), 255)\n",
    "    g = min(max(int(g * 255), 0), 255)\n",
    "    b = min(max(int(b * 255), 0), 255)\n",
    "\n",
    "    return r, g, b"
   ]
  },
  {
   "cell_type": "markdown",
   "metadata": {},
   "source": [
    "# 2. Dataset"
   ]
  },
  {
   "cell_type": "markdown",
   "metadata": {},
   "source": [
    "# 2.1. Local parameters"
   ]
  },
  {
   "cell_type": "code",
   "execution_count": 5,
   "metadata": {},
   "outputs": [],
   "source": [
    "# Plot\n",
    "TITLE_DISPLAY = True\n",
    "FIGURE_SIZE = (5, 5)\n",
    "SAVE_FIGURE = True"
   ]
  },
  {
   "cell_type": "code",
   "execution_count": 6,
   "metadata": {},
   "outputs": [
    {
     "ename": "FileNotFoundError",
     "evalue": "[Errno 2] No such file or directory: '..\\\\data\\\\reference_corrected_Bradford-200uL-1.csv'",
     "output_type": "error",
     "traceback": [
      "\u001b[1;31m---------------------------------------------------------------------------\u001b[0m",
      "\u001b[1;31mFileNotFoundError\u001b[0m                         Traceback (most recent call last)",
      "\u001b[1;32md:\\johmi\\Projects\\Research Projects\\Color_Sensor\\Programs\\dev_0.1.1\\docs\\data_visualization.ipynb Cell 15\u001b[0m line \u001b[0;36m2\n\u001b[0;32m      <a href='vscode-notebook-cell:/d%3A/johmi/Projects/Research%20Projects/Color_Sensor/Programs/dev_0.1.1/docs/data_visualization.ipynb#X20sZmlsZQ%3D%3D?line=0'>1</a>\u001b[0m \u001b[39m# Load data from .csv file\u001b[39;00m\n\u001b[1;32m----> <a href='vscode-notebook-cell:/d%3A/johmi/Projects/Research%20Projects/Color_Sensor/Programs/dev_0.1.1/docs/data_visualization.ipynb#X20sZmlsZQ%3D%3D?line=1'>2</a>\u001b[0m reference_df \u001b[39m=\u001b[39m pd\u001b[39m.\u001b[39;49mread_csv(os\u001b[39m.\u001b[39;49mpath\u001b[39m.\u001b[39;49mjoin(DATA_DIRECTORY, REFERENCE_FILE))\n\u001b[0;32m      <a href='vscode-notebook-cell:/d%3A/johmi/Projects/Research%20Projects/Color_Sensor/Programs/dev_0.1.1/docs/data_visualization.ipynb#X20sZmlsZQ%3D%3D?line=2'>3</a>\u001b[0m \u001b[39m# Create the dictionary\u001b[39;00m\n\u001b[0;32m      <a href='vscode-notebook-cell:/d%3A/johmi/Projects/Research%20Projects/Color_Sensor/Programs/dev_0.1.1/docs/data_visualization.ipynb#X20sZmlsZQ%3D%3D?line=3'>4</a>\u001b[0m reference \u001b[39m=\u001b[39m {((r[\u001b[39m'\u001b[39m\u001b[39mRed\u001b[39m\u001b[39m'\u001b[39m], r[\u001b[39m'\u001b[39m\u001b[39mGreen\u001b[39m\u001b[39m'\u001b[39m], r[\u001b[39m'\u001b[39m\u001b[39mBlue\u001b[39m\u001b[39m'\u001b[39m]), r[\u001b[39m'\u001b[39m\u001b[39mClear_Frequency\u001b[39m\u001b[39m'\u001b[39m]): r[\u001b[39m'\u001b[39m\u001b[39mLabel\u001b[39m\u001b[39m'\u001b[39m] \u001b[39mfor\u001b[39;00m _, r \u001b[39min\u001b[39;00m reference_df\u001b[39m.\u001b[39miterrows()}\n",
      "File \u001b[1;32md:\\johmi\\anaconda3\\envs\\color_sensor_dev_env\\lib\\site-packages\\pandas\\util\\_decorators.py:211\u001b[0m, in \u001b[0;36mdeprecate_kwarg.<locals>._deprecate_kwarg.<locals>.wrapper\u001b[1;34m(*args, **kwargs)\u001b[0m\n\u001b[0;32m    209\u001b[0m     \u001b[39melse\u001b[39;00m:\n\u001b[0;32m    210\u001b[0m         kwargs[new_arg_name] \u001b[39m=\u001b[39m new_arg_value\n\u001b[1;32m--> 211\u001b[0m \u001b[39mreturn\u001b[39;00m func(\u001b[39m*\u001b[39margs, \u001b[39m*\u001b[39m\u001b[39m*\u001b[39mkwargs)\n",
      "File \u001b[1;32md:\\johmi\\anaconda3\\envs\\color_sensor_dev_env\\lib\\site-packages\\pandas\\util\\_decorators.py:331\u001b[0m, in \u001b[0;36mdeprecate_nonkeyword_arguments.<locals>.decorate.<locals>.wrapper\u001b[1;34m(*args, **kwargs)\u001b[0m\n\u001b[0;32m    325\u001b[0m \u001b[39mif\u001b[39;00m \u001b[39mlen\u001b[39m(args) \u001b[39m>\u001b[39m num_allow_args:\n\u001b[0;32m    326\u001b[0m     warnings\u001b[39m.\u001b[39mwarn(\n\u001b[0;32m    327\u001b[0m         msg\u001b[39m.\u001b[39mformat(arguments\u001b[39m=\u001b[39m_format_argument_list(allow_args)),\n\u001b[0;32m    328\u001b[0m         \u001b[39mFutureWarning\u001b[39;00m,\n\u001b[0;32m    329\u001b[0m         stacklevel\u001b[39m=\u001b[39mfind_stack_level(),\n\u001b[0;32m    330\u001b[0m     )\n\u001b[1;32m--> 331\u001b[0m \u001b[39mreturn\u001b[39;00m func(\u001b[39m*\u001b[39margs, \u001b[39m*\u001b[39m\u001b[39m*\u001b[39mkwargs)\n",
      "File \u001b[1;32md:\\johmi\\anaconda3\\envs\\color_sensor_dev_env\\lib\\site-packages\\pandas\\io\\parsers\\readers.py:950\u001b[0m, in \u001b[0;36mread_csv\u001b[1;34m(filepath_or_buffer, sep, delimiter, header, names, index_col, usecols, squeeze, prefix, mangle_dupe_cols, dtype, engine, converters, true_values, false_values, skipinitialspace, skiprows, skipfooter, nrows, na_values, keep_default_na, na_filter, verbose, skip_blank_lines, parse_dates, infer_datetime_format, keep_date_col, date_parser, dayfirst, cache_dates, iterator, chunksize, compression, thousands, decimal, lineterminator, quotechar, quoting, doublequote, escapechar, comment, encoding, encoding_errors, dialect, error_bad_lines, warn_bad_lines, on_bad_lines, delim_whitespace, low_memory, memory_map, float_precision, storage_options)\u001b[0m\n\u001b[0;32m    935\u001b[0m kwds_defaults \u001b[39m=\u001b[39m _refine_defaults_read(\n\u001b[0;32m    936\u001b[0m     dialect,\n\u001b[0;32m    937\u001b[0m     delimiter,\n\u001b[1;32m   (...)\u001b[0m\n\u001b[0;32m    946\u001b[0m     defaults\u001b[39m=\u001b[39m{\u001b[39m\"\u001b[39m\u001b[39mdelimiter\u001b[39m\u001b[39m\"\u001b[39m: \u001b[39m\"\u001b[39m\u001b[39m,\u001b[39m\u001b[39m\"\u001b[39m},\n\u001b[0;32m    947\u001b[0m )\n\u001b[0;32m    948\u001b[0m kwds\u001b[39m.\u001b[39mupdate(kwds_defaults)\n\u001b[1;32m--> 950\u001b[0m \u001b[39mreturn\u001b[39;00m _read(filepath_or_buffer, kwds)\n",
      "File \u001b[1;32md:\\johmi\\anaconda3\\envs\\color_sensor_dev_env\\lib\\site-packages\\pandas\\io\\parsers\\readers.py:605\u001b[0m, in \u001b[0;36m_read\u001b[1;34m(filepath_or_buffer, kwds)\u001b[0m\n\u001b[0;32m    602\u001b[0m _validate_names(kwds\u001b[39m.\u001b[39mget(\u001b[39m\"\u001b[39m\u001b[39mnames\u001b[39m\u001b[39m\"\u001b[39m, \u001b[39mNone\u001b[39;00m))\n\u001b[0;32m    604\u001b[0m \u001b[39m# Create the parser.\u001b[39;00m\n\u001b[1;32m--> 605\u001b[0m parser \u001b[39m=\u001b[39m TextFileReader(filepath_or_buffer, \u001b[39m*\u001b[39m\u001b[39m*\u001b[39mkwds)\n\u001b[0;32m    607\u001b[0m \u001b[39mif\u001b[39;00m chunksize \u001b[39mor\u001b[39;00m iterator:\n\u001b[0;32m    608\u001b[0m     \u001b[39mreturn\u001b[39;00m parser\n",
      "File \u001b[1;32md:\\johmi\\anaconda3\\envs\\color_sensor_dev_env\\lib\\site-packages\\pandas\\io\\parsers\\readers.py:1442\u001b[0m, in \u001b[0;36mTextFileReader.__init__\u001b[1;34m(self, f, engine, **kwds)\u001b[0m\n\u001b[0;32m   1439\u001b[0m     \u001b[39mself\u001b[39m\u001b[39m.\u001b[39moptions[\u001b[39m\"\u001b[39m\u001b[39mhas_index_names\u001b[39m\u001b[39m\"\u001b[39m] \u001b[39m=\u001b[39m kwds[\u001b[39m\"\u001b[39m\u001b[39mhas_index_names\u001b[39m\u001b[39m\"\u001b[39m]\n\u001b[0;32m   1441\u001b[0m \u001b[39mself\u001b[39m\u001b[39m.\u001b[39mhandles: IOHandles \u001b[39m|\u001b[39m \u001b[39mNone\u001b[39;00m \u001b[39m=\u001b[39m \u001b[39mNone\u001b[39;00m\n\u001b[1;32m-> 1442\u001b[0m \u001b[39mself\u001b[39m\u001b[39m.\u001b[39m_engine \u001b[39m=\u001b[39m \u001b[39mself\u001b[39;49m\u001b[39m.\u001b[39;49m_make_engine(f, \u001b[39mself\u001b[39;49m\u001b[39m.\u001b[39;49mengine)\n",
      "File \u001b[1;32md:\\johmi\\anaconda3\\envs\\color_sensor_dev_env\\lib\\site-packages\\pandas\\io\\parsers\\readers.py:1735\u001b[0m, in \u001b[0;36mTextFileReader._make_engine\u001b[1;34m(self, f, engine)\u001b[0m\n\u001b[0;32m   1733\u001b[0m     \u001b[39mif\u001b[39;00m \u001b[39m\"\u001b[39m\u001b[39mb\u001b[39m\u001b[39m\"\u001b[39m \u001b[39mnot\u001b[39;00m \u001b[39min\u001b[39;00m mode:\n\u001b[0;32m   1734\u001b[0m         mode \u001b[39m+\u001b[39m\u001b[39m=\u001b[39m \u001b[39m\"\u001b[39m\u001b[39mb\u001b[39m\u001b[39m\"\u001b[39m\n\u001b[1;32m-> 1735\u001b[0m \u001b[39mself\u001b[39m\u001b[39m.\u001b[39mhandles \u001b[39m=\u001b[39m get_handle(\n\u001b[0;32m   1736\u001b[0m     f,\n\u001b[0;32m   1737\u001b[0m     mode,\n\u001b[0;32m   1738\u001b[0m     encoding\u001b[39m=\u001b[39;49m\u001b[39mself\u001b[39;49m\u001b[39m.\u001b[39;49moptions\u001b[39m.\u001b[39;49mget(\u001b[39m\"\u001b[39;49m\u001b[39mencoding\u001b[39;49m\u001b[39m\"\u001b[39;49m, \u001b[39mNone\u001b[39;49;00m),\n\u001b[0;32m   1739\u001b[0m     compression\u001b[39m=\u001b[39;49m\u001b[39mself\u001b[39;49m\u001b[39m.\u001b[39;49moptions\u001b[39m.\u001b[39;49mget(\u001b[39m\"\u001b[39;49m\u001b[39mcompression\u001b[39;49m\u001b[39m\"\u001b[39;49m, \u001b[39mNone\u001b[39;49;00m),\n\u001b[0;32m   1740\u001b[0m     memory_map\u001b[39m=\u001b[39;49m\u001b[39mself\u001b[39;49m\u001b[39m.\u001b[39;49moptions\u001b[39m.\u001b[39;49mget(\u001b[39m\"\u001b[39;49m\u001b[39mmemory_map\u001b[39;49m\u001b[39m\"\u001b[39;49m, \u001b[39mFalse\u001b[39;49;00m),\n\u001b[0;32m   1741\u001b[0m     is_text\u001b[39m=\u001b[39;49mis_text,\n\u001b[0;32m   1742\u001b[0m     errors\u001b[39m=\u001b[39;49m\u001b[39mself\u001b[39;49m\u001b[39m.\u001b[39;49moptions\u001b[39m.\u001b[39;49mget(\u001b[39m\"\u001b[39;49m\u001b[39mencoding_errors\u001b[39;49m\u001b[39m\"\u001b[39;49m, \u001b[39m\"\u001b[39;49m\u001b[39mstrict\u001b[39;49m\u001b[39m\"\u001b[39;49m),\n\u001b[0;32m   1743\u001b[0m     storage_options\u001b[39m=\u001b[39;49m\u001b[39mself\u001b[39;49m\u001b[39m.\u001b[39;49moptions\u001b[39m.\u001b[39;49mget(\u001b[39m\"\u001b[39;49m\u001b[39mstorage_options\u001b[39;49m\u001b[39m\"\u001b[39;49m, \u001b[39mNone\u001b[39;49;00m),\n\u001b[0;32m   1744\u001b[0m )\n\u001b[0;32m   1745\u001b[0m \u001b[39massert\u001b[39;00m \u001b[39mself\u001b[39m\u001b[39m.\u001b[39mhandles \u001b[39mis\u001b[39;00m \u001b[39mnot\u001b[39;00m \u001b[39mNone\u001b[39;00m\n\u001b[0;32m   1746\u001b[0m f \u001b[39m=\u001b[39m \u001b[39mself\u001b[39m\u001b[39m.\u001b[39mhandles\u001b[39m.\u001b[39mhandle\n",
      "File \u001b[1;32md:\\johmi\\anaconda3\\envs\\color_sensor_dev_env\\lib\\site-packages\\pandas\\io\\common.py:856\u001b[0m, in \u001b[0;36mget_handle\u001b[1;34m(path_or_buf, mode, encoding, compression, memory_map, is_text, errors, storage_options)\u001b[0m\n\u001b[0;32m    851\u001b[0m \u001b[39melif\u001b[39;00m \u001b[39misinstance\u001b[39m(handle, \u001b[39mstr\u001b[39m):\n\u001b[0;32m    852\u001b[0m     \u001b[39m# Check whether the filename is to be opened in binary mode.\u001b[39;00m\n\u001b[0;32m    853\u001b[0m     \u001b[39m# Binary mode does not support 'encoding' and 'newline'.\u001b[39;00m\n\u001b[0;32m    854\u001b[0m     \u001b[39mif\u001b[39;00m ioargs\u001b[39m.\u001b[39mencoding \u001b[39mand\u001b[39;00m \u001b[39m\"\u001b[39m\u001b[39mb\u001b[39m\u001b[39m\"\u001b[39m \u001b[39mnot\u001b[39;00m \u001b[39min\u001b[39;00m ioargs\u001b[39m.\u001b[39mmode:\n\u001b[0;32m    855\u001b[0m         \u001b[39m# Encoding\u001b[39;00m\n\u001b[1;32m--> 856\u001b[0m         handle \u001b[39m=\u001b[39m \u001b[39mopen\u001b[39;49m(\n\u001b[0;32m    857\u001b[0m             handle,\n\u001b[0;32m    858\u001b[0m             ioargs\u001b[39m.\u001b[39;49mmode,\n\u001b[0;32m    859\u001b[0m             encoding\u001b[39m=\u001b[39;49mioargs\u001b[39m.\u001b[39;49mencoding,\n\u001b[0;32m    860\u001b[0m             errors\u001b[39m=\u001b[39;49merrors,\n\u001b[0;32m    861\u001b[0m             newline\u001b[39m=\u001b[39;49m\u001b[39m\"\u001b[39;49m\u001b[39m\"\u001b[39;49m,\n\u001b[0;32m    862\u001b[0m         )\n\u001b[0;32m    863\u001b[0m     \u001b[39melse\u001b[39;00m:\n\u001b[0;32m    864\u001b[0m         \u001b[39m# Binary mode\u001b[39;00m\n\u001b[0;32m    865\u001b[0m         handle \u001b[39m=\u001b[39m \u001b[39mopen\u001b[39m(handle, ioargs\u001b[39m.\u001b[39mmode)\n",
      "\u001b[1;31mFileNotFoundError\u001b[0m: [Errno 2] No such file or directory: '..\\\\data\\\\reference_corrected_Bradford-200uL-1.csv'"
     ]
    }
   ],
   "source": [
    "# Load data from .csv file\n",
    "reference_df = pd.read_csv(os.path.join(DATA_DIRECTORY, REFERENCE_FILE))\n",
    "# Create the dictionary\n",
    "reference = {((r['Red'], r['Green'], r['Blue']), r['Clear_Frequency']): r['Label'] for _, r in reference_df.iterrows()}\n",
    "# Normalize RGB for coloring\n",
    "colors = [(k[0][0]/255, k[0][1]/255, k[0][2]/255) for k in reference.keys()]\n",
    "# Prepare Label values\n",
    "labels = list(reference.values())"
   ]
  },
  {
   "cell_type": "markdown",
   "metadata": {},
   "source": [
    "## 2.2. RGBC-Frequency"
   ]
  },
  {
   "cell_type": "code",
   "execution_count": null,
   "metadata": {},
   "outputs": [],
   "source": [
    "COLORIMETRY_SYSTEM = \"rgbc-freq\""
   ]
  },
  {
   "cell_type": "code",
   "execution_count": null,
   "metadata": {},
   "outputs": [],
   "source": [
    "# Create the dictionary for frequencies\n",
    "frequencies = {(r['Red_Frequency'], r['Green_Frequency'], r['Blue_Frequency'], r['Clear_Frequency']): r['Label'] for _, r in reference_df.iterrows()}\n",
    "\n",
    "# Extract the values for each frequency using a list comprehension\n",
    "red_frequencies = [k[0] for k in frequencies.keys()]\n",
    "green_frequencies = [k[1] for k in frequencies.keys()]\n",
    "blue_frequencies = [k[2] for k in frequencies.keys()]\n",
    "clear_frequencies = [k[3] for k in frequencies.keys()]"
   ]
  },
  {
   "cell_type": "markdown",
   "metadata": {},
   "source": [
    "### 2.2.1. Plot overall data"
   ]
  },
  {
   "cell_type": "code",
   "execution_count": null,
   "metadata": {},
   "outputs": [],
   "source": [
    "# Create subplots\n",
    "fig, axs = plt.subplots(figsize=FIGURE_SIZE)\n",
    "\n",
    "# Plot Label vs Red_Frequency\n",
    "axs.scatter(labels, red_frequencies, label='Red', color='red', alpha=0.5)\n",
    "\n",
    "# Plot Label vs Green_Frequency\n",
    "axs.scatter(labels, green_frequencies, label='Green', color='green', alpha=0.5)\n",
    "\n",
    "# Plot Label vs Blue_Frequency\n",
    "axs.scatter(labels, blue_frequencies, label='Blue', color='blue', alpha=0.5)\n",
    "\n",
    "# Plot Label vs Clear_Frequency\n",
    "axs.scatter(labels, clear_frequencies, label='Clear', color='gray', alpha=0.5)\n",
    "\n",
    "axs.set_xlabel(f\"{NAME_OF_LABEL} ({LABEL_UNIT})\", **AXIS_FONT)\n",
    "axs.set_ylabel('Frequency Value', **AXIS_FONT)\n",
    "if TITLE_DISPLAY == True:\n",
    "    axs.set_title(f'{NAME_OF_LABEL} vs Frequency', **TITLE_FONT)\n",
    "\n",
    "# Add legend to the plot\n",
    "axs.legend(loc='upper center', bbox_to_anchor=(0.5, 1.15), prop=LEGEND_FONT, framealpha=1, ncol=4)\n",
    "\n",
    "# Display the plots\n",
    "plt.tight_layout()\n",
    "plt.show()\n",
    "\n",
    "# Save figure\n",
    "if SAVE_FIGURE == True:\n",
    "    save_fig(fig, f\"Overview_of_Frequencies_{COLORIMETRY_SYSTEM}\", DATASET_NAME, DOCUMENT_DIRECTORY)"
   ]
  },
  {
   "cell_type": "markdown",
   "metadata": {},
   "source": [
    "### 2.2.2. Plot each feature"
   ]
  },
  {
   "cell_type": "code",
   "execution_count": null,
   "metadata": {},
   "outputs": [],
   "source": [
    "# Create subplots\n",
    "fig, axs = plt.subplots(1, 4, figsize=(FIGURE_SIZE[0]*3, FIGURE_SIZE[1]))\n",
    "\n",
    "# Names for each subplot\n",
    "freq_names = ['Red Frequency', 'Green Frequency', 'Blue Frequency', 'Clear Frequency']\n",
    "\n",
    "# Plot Label vs Frequencies\n",
    "for idx, freq_name in enumerate(freq_names):\n",
    "    axs[idx].scatter(labels, [k[idx] for k in frequencies.keys()], color=colors)\n",
    "    axs[idx].set_xlabel(f\"{NAME_OF_LABEL} ({LABEL_UNIT})\", **AXIS_FONT)\n",
    "    axs[idx].set_ylabel(f\"{freq_name} (Hz)\", **AXIS_FONT)\n",
    "    if TITLE_DISPLAY == True:\n",
    "        axs[idx].set_title(f'{NAME_OF_LABEL} vs {freq_name}', **TITLE_FONT)\n",
    "\n",
    "# Display the plots\n",
    "plt.tight_layout()\n",
    "plt.show()\n",
    "\n",
    "# Save figure\n",
    "if SAVE_FIGURE == True:\n",
    "    save_fig(fig, f\"Each_Frequency_of_Dataset_{COLORIMETRY_SYSTEM}\", DATASET_NAME, DOCUMENT_DIRECTORY)"
   ]
  },
  {
   "cell_type": "code",
   "execution_count": null,
   "metadata": {},
   "outputs": [],
   "source": [
    "print(f\"Min: {min(clear_frequencies)}, Max: {max(clear_frequencies)}\")"
   ]
  },
  {
   "cell_type": "markdown",
   "metadata": {},
   "source": [
    "### 2.2.3. Plot correlations on features"
   ]
  },
  {
   "cell_type": "code",
   "execution_count": null,
   "metadata": {},
   "outputs": [],
   "source": [
    "# Calculate correlations for frequencies\n",
    "frequency_df = pd.DataFrame({\n",
    "    'Red_Frequency': red_frequencies,\n",
    "    'Green_Frequency': green_frequencies,\n",
    "    'Blue_Frequency': blue_frequencies,\n",
    "    'Clear_Frequency': clear_frequencies\n",
    "})\n",
    "\n",
    "correlation_matrix = frequency_df.corr()\n",
    "\n",
    "# Plotting the heatmap\n",
    "plt.figure(figsize=FIGURE_SIZE)\n",
    "sns.heatmap(correlation_matrix, annot=True, cmap='coolwarm', linewidths=0.5, vmin=-1, vmax=1)\n",
    "plt.title(\"Correlation Heatmap for Frequencies\")\n",
    "plt.show()"
   ]
  },
  {
   "cell_type": "markdown",
   "metadata": {},
   "source": [
    "### 2.2.4. Plot relationship of RGB frequencies to clear frequency"
   ]
  },
  {
   "cell_type": "code",
   "execution_count": null,
   "metadata": {},
   "outputs": [],
   "source": [
    "# Compute the RGB sum\n",
    "rgb_sum = frequency_df['Red_Frequency'] + frequency_df['Green_Frequency'] + frequency_df['Blue_Frequency']\n",
    "\n",
    "# Adjust the figure size to accommodate 4 plots\n",
    "plt.figure(figsize=(FIGURE_SIZE[0]*3, FIGURE_SIZE[1]))\n",
    "\n",
    "# Red vs Clear Frequency\n",
    "plt.subplot(1, 4, 1)\n",
    "plt.scatter(frequency_df['Red_Frequency'], frequency_df['Clear_Frequency'], color=colors)\n",
    "plt.xlabel('Red Frequency', **AXIS_FONT)\n",
    "plt.ylabel('Clear Frequency', **AXIS_FONT)\n",
    "if TITLE_DISPLAY == True:\n",
    "    plt.title('Red vs Clear Frequency', **TITLE_FONT)\n",
    "\n",
    "# Green vs Clear Frequency\n",
    "plt.subplot(1, 4, 2)\n",
    "plt.scatter(frequency_df['Green_Frequency'], frequency_df['Clear_Frequency'], color=colors)\n",
    "plt.xlabel('Green Frequency', **AXIS_FONT)\n",
    "plt.ylabel('Clear Frequency', **AXIS_FONT)\n",
    "if TITLE_DISPLAY == True:\n",
    "    plt.title('Green vs Clear Frequency', **TITLE_FONT)\n",
    "\n",
    "# Blue vs Clear Frequency\n",
    "plt.subplot(1, 4, 3)\n",
    "plt.scatter(frequency_df['Blue_Frequency'], frequency_df['Clear_Frequency'], color=colors)\n",
    "plt.xlabel('Blue Frequency', **AXIS_FONT)\n",
    "plt.ylabel('Clear Frequency', **AXIS_FONT)\n",
    "if TITLE_DISPLAY == True:\n",
    "    plt.title('Blue vs Clear Frequency', **TITLE_FONT)\n",
    "\n",
    "# R+G+B vs Clear Frequency\n",
    "plt.subplot(1, 4, 4)\n",
    "plt.scatter(rgb_sum, frequency_df['Clear_Frequency'], color=colors)\n",
    "plt.xlabel('(R+G+B) Frequency', **AXIS_FONT)\n",
    "plt.ylabel('Clear Frequency', **AXIS_FONT)\n",
    "if TITLE_DISPLAY == True:\n",
    "    plt.title('(R+G+B) vs Clear Frequency', **TITLE_FONT)\n",
    "\n",
    "# Adjust and display the plots\n",
    "plt.tight_layout()\n",
    "plt.show()\n",
    "\n",
    "# Save figure\n",
    "if SAVE_FIGURE == True:\n",
    "    save_fig(fig, f\"Relationships_of_RGB_and_Clear_Frequency_{COLORIMETRY_SYSTEM}\", DATASET_NAME, DOCUMENT_DIRECTORY)"
   ]
  },
  {
   "cell_type": "markdown",
   "metadata": {},
   "source": [
    "### 2.2.5. Plot RGB-Frequency-Ratio"
   ]
  },
  {
   "cell_type": "code",
   "execution_count": null,
   "metadata": {},
   "outputs": [],
   "source": [
    "# Calculate the fractions\n",
    "red_fraction = [rf/cf for rf, cf in zip(red_frequencies, clear_frequencies)]\n",
    "green_fraction = [gf/cf for gf, cf in zip(green_frequencies, clear_frequencies)]\n",
    "blue_fraction = [bf/cf for bf, cf in zip(blue_frequencies, clear_frequencies)]\n",
    "rgb_sum_fraction = [(rf + gf + bf)/cf for rf, gf, bf, cf in zip(red_frequencies, green_frequencies, blue_frequencies, clear_frequencies)]"
   ]
  },
  {
   "cell_type": "code",
   "execution_count": null,
   "metadata": {},
   "outputs": [],
   "source": [
    "# Adjust the subplot creation to have 4 columns\n",
    "fig, axs = plt.subplots(1, 4, figsize=(FIGURE_SIZE[0]*3, FIGURE_SIZE[1]))\n",
    "\n",
    "\n",
    "# Plot Label vs Red/Clear\n",
    "axs[0].scatter(labels, red_fraction, color=colors)\n",
    "axs[0].set_xlabel(f\"{NAME_OF_LABEL} ({LABEL_UNIT})\", **AXIS_FONT)\n",
    "axs[0].set_ylabel('Red/Clear', **AXIS_FONT)\n",
    "axs[0].set_ylim([0, 1])\n",
    "if TITLE_DISPLAY == True:\n",
    "    axs[0].set_title(f'{NAME_OF_LABEL} vs Red/Clear', **TITLE_FONT)\n",
    "\n",
    "# Plot Label vs Green/Clear\n",
    "axs[1].scatter(labels, green_fraction, color=colors)\n",
    "axs[1].set_xlabel(f\"{NAME_OF_LABEL} ({LABEL_UNIT})\", **AXIS_FONT)\n",
    "axs[1].set_ylabel('Green/Clear', **AXIS_FONT)\n",
    "axs[1].set_ylim([0, 1])\n",
    "if TITLE_DISPLAY == True:\n",
    "    axs[1].set_title(f'{NAME_OF_LABEL} vs Green/Clear', **TITLE_FONT)\n",
    "\n",
    "# Plot Label vs Blue/Clear\n",
    "axs[2].scatter(labels, blue_fraction, color=colors)\n",
    "axs[2].set_xlabel(f\"{NAME_OF_LABEL} ({LABEL_UNIT})\", **AXIS_FONT)\n",
    "axs[2].set_ylabel('Blue/Clear', **AXIS_FONT)\n",
    "axs[2].set_ylim([0, 1])\n",
    "if TITLE_DISPLAY == True:\n",
    "    axs[2].set_title(f'{NAME_OF_LABEL} vs Blue/Clear', **TITLE_FONT)\n",
    "\n",
    "# Plot Label vs (R+G+B)/Clear\n",
    "axs[3].scatter(labels, rgb_sum_fraction, color=colors)\n",
    "axs[3].set_xlabel(f\"{NAME_OF_LABEL} ({LABEL_UNIT})\", **AXIS_FONT)\n",
    "axs[3].set_ylabel('(R+G+B)/Clear', **AXIS_FONT)\n",
    "axs[3].set_ylim([0, 3])  # Adjust the y-limit if necessary\n",
    "if TITLE_DISPLAY == True:\n",
    "    axs[3].set_title(f'{NAME_OF_LABEL} vs (R+G+B)/Clear', **TITLE_FONT)\n",
    "\n",
    "# Display the plots\n",
    "plt.tight_layout()\n",
    "plt.show()\n",
    "\n",
    "# Save figure\n",
    "if SAVE_FIGURE == True:\n",
    "    save_fig(fig, f\"RGB_Frequencies_Over_Clear_Frequency_{COLORIMETRY_SYSTEM}\", DATASET_NAME, DOCUMENT_DIRECTORY)"
   ]
  },
  {
   "cell_type": "markdown",
   "metadata": {},
   "source": [
    "### 2.2.6. Plot RGB-Frequency-Ratio over RGB sum"
   ]
  },
  {
   "cell_type": "code",
   "execution_count": null,
   "metadata": {},
   "outputs": [],
   "source": [
    "red_freq_normalized = [rf / (rf + gf + bf) for rf, gf, bf in zip(red_frequencies, green_frequencies, blue_frequencies)]\n",
    "green_freq_normalized = [gf / (rf + gf + bf) for rf, gf, bf in zip(red_frequencies, green_frequencies, blue_frequencies)]\n",
    "blue_freq_normalized = [bf / (rf + gf + bf) for rf, gf, bf in zip(red_frequencies, green_frequencies, blue_frequencies)]\n",
    "rgb_combined_freq = [rf + gf + bf for rf, gf, bf in zip(red_frequencies, green_frequencies, blue_frequencies)]"
   ]
  },
  {
   "cell_type": "code",
   "execution_count": null,
   "metadata": {},
   "outputs": [],
   "source": [
    "# Create subplots\n",
    "fig, axs = plt.subplots(1, 4, figsize=(FIGURE_SIZE[0]*3, FIGURE_SIZE[1]))\n",
    "\n",
    "\n",
    "# Plot Label vs R/R+G+B\n",
    "axs[0].scatter(labels, red_freq_normalized, color=colors)\n",
    "axs[0].set_xlabel(f\"{NAME_OF_LABEL} ({LABEL_UNIT})\", **AXIS_FONT)\n",
    "axs[0].set_ylabel('R/(R+G+B) Frequency', **AXIS_FONT)\n",
    "axs[0].set_ylim([0, 1])\n",
    "if TITLE_DISPLAY == True:\n",
    "    axs[0].set_title(f'{NAME_OF_LABEL} vs R/(R+G+B) Frequency', **TITLE_FONT)\n",
    "\n",
    "# Plot Label vs G/R+G+B\n",
    "axs[1].scatter(labels, green_freq_normalized, color=colors)\n",
    "axs[1].set_xlabel(f\"{NAME_OF_LABEL} ({LABEL_UNIT})\", **AXIS_FONT)\n",
    "axs[1].set_ylabel('G/(R+G+B) Frequency', **AXIS_FONT)\n",
    "axs[1].set_ylim([0, 1])\n",
    "if TITLE_DISPLAY == True:\n",
    "    axs[1].set_title(f'{NAME_OF_LABEL} vs G/(R+G+B) Frequency', **TITLE_FONT)\n",
    "\n",
    "# Plot Label vs B/R+G+B\n",
    "axs[2].scatter(labels, blue_freq_normalized, color=colors)\n",
    "axs[2].set_xlabel(f\"{NAME_OF_LABEL} ({LABEL_UNIT})\", **AXIS_FONT)\n",
    "axs[2].set_ylabel('B/(R+G+B) Frequency', **AXIS_FONT)\n",
    "axs[2].set_ylim([0, 1])\n",
    "if TITLE_DISPLAY == True:\n",
    "    axs[2].set_title(f'{NAME_OF_LABEL} vs B/(R+G+B) Frequency', **TITLE_FONT)\n",
    "\n",
    "# Plot Label vs R+G+B Frequency\n",
    "axs[3].scatter(labels, rgb_combined_freq, color=colors)\n",
    "axs[3].set_xlabel(f\"{NAME_OF_LABEL} ({LABEL_UNIT})\", **AXIS_FONT)\n",
    "axs[3].set_ylabel('(R+G+B) Frequency', **AXIS_FONT)\n",
    "if TITLE_DISPLAY == True:\n",
    "    axs[3].set_title(f'{NAME_OF_LABEL} vs R+G+B Frequency', **TITLE_FONT)\n",
    "\n",
    "# Display the plots\n",
    "plt.tight_layout()\n",
    "plt.show()\n",
    "\n",
    "# Save figure\n",
    "if SAVE_FIGURE == True:\n",
    "    save_fig(fig, f\"RGB_Frequency_Fractions_Over_Sum_{COLORIMETRY_SYSTEM}\", DATASET_NAME, DOCUMENT_DIRECTORY)"
   ]
  },
  {
   "cell_type": "markdown",
   "metadata": {},
   "source": [
    "## 2.3. RGB"
   ]
  },
  {
   "cell_type": "code",
   "execution_count": null,
   "metadata": {},
   "outputs": [],
   "source": [
    "COLORIMETRY_SYSTEM = \"rgb\""
   ]
  },
  {
   "cell_type": "markdown",
   "metadata": {},
   "source": [
    "### 2.3.1. Plot overall data"
   ]
  },
  {
   "cell_type": "code",
   "execution_count": null,
   "metadata": {},
   "outputs": [],
   "source": [
    "# Create subplots\n",
    "fig, axs = plt.subplots(figsize=FIGURE_SIZE)\n",
    "\n",
    "# Plot Label vs Red\n",
    "axs.scatter(labels, [k[0][0] for k in reference.keys()], label='Red', color='red', alpha=0.5)\n",
    "\n",
    "# Plot Label vs Green\n",
    "axs.scatter(labels, [k[0][1] for k in reference.keys()], label='Green', color='green', alpha=0.5)\n",
    "\n",
    "# Plot Label vs Blue\n",
    "axs.scatter(labels, [k[0][2] for k in reference.keys()], label='Blue', color='blue', alpha=0.5)\n",
    "\n",
    "axs.set_xlabel(f\"{NAME_OF_LABEL} ({LABEL_UNIT})\", **AXIS_FONT)\n",
    "axs.set_ylabel('RGB Value', **AXIS_FONT)\n",
    "axs.set_ylim([0, 255])\n",
    "if TITLE_DISPLAY == True:\n",
    "    axs.set_title(f'{NAME_OF_LABEL} vs RGB', **TITLE_FONT)\n",
    "\n",
    "# Add legend to the plot\n",
    "axs.legend(loc='upper center', bbox_to_anchor=(0.5, 1.15), prop=LEGEND_FONT, framealpha=1, ncol=3)\n",
    "\n",
    "# Display the plots\n",
    "plt.tight_layout()\n",
    "plt.show()\n",
    "\n",
    "# Save figure\n",
    "if SAVE_FIGURE == True:\n",
    "    save_fig(fig, f\"Overview_of_Dataset_{COLORIMETRY_SYSTEM}\", DATASET_NAME, DOCUMENT_DIRECTORY)"
   ]
  },
  {
   "cell_type": "markdown",
   "metadata": {},
   "source": [
    "### 2.3.2. Plot each feature"
   ]
  },
  {
   "cell_type": "code",
   "execution_count": null,
   "metadata": {},
   "outputs": [],
   "source": [
    "# Create subplots\n",
    "fig, axs = plt.subplots(1, 3, figsize=(FIGURE_SIZE[0]*2, FIGURE_SIZE[1]))\n",
    "\n",
    "# Plot Label vs Red\n",
    "axs[0].scatter(labels, [k[0][0] for k in reference.keys()], color=colors)\n",
    "axs[0].set_xlabel(f\"{NAME_OF_LABEL} ({LABEL_UNIT})\", **AXIS_FONT)\n",
    "axs[0].set_ylabel('Red Value', **AXIS_FONT)\n",
    "axs[0].set_ylim([0, 255])\n",
    "if TITLE_DISPLAY == True:\n",
    "    axs[0].set_title(f'{NAME_OF_LABEL} vs Red', **TITLE_FONT)\n",
    "\n",
    "# Plot Label vs Green\n",
    "axs[1].scatter(labels, [k[0][1] for k in reference.keys()], color=colors)\n",
    "axs[1].set_xlabel(f\"{NAME_OF_LABEL} ({LABEL_UNIT})\", **AXIS_FONT)\n",
    "axs[1].set_ylabel('Green Value', **AXIS_FONT)\n",
    "axs[1].set_ylim([0, 255])\n",
    "if TITLE_DISPLAY == True:\n",
    "    axs[1].set_title(f'{NAME_OF_LABEL} vs Green', **TITLE_FONT)\n",
    "\n",
    "# Plot Label vs Blue\n",
    "axs[2].scatter(labels, [k[0][2] for k in reference.keys()], color=colors)\n",
    "axs[2].set_xlabel(f\"{NAME_OF_LABEL} ({LABEL_UNIT})\", **AXIS_FONT)\n",
    "axs[2].set_ylabel('Blue Value', **AXIS_FONT)\n",
    "axs[2].set_ylim([0, 255])\n",
    "if TITLE_DISPLAY == True:\n",
    "    axs[2].set_title(f'{NAME_OF_LABEL} vs Blue', **TITLE_FONT)\n",
    "\n",
    "# Display the plots\n",
    "plt.tight_layout()\n",
    "plt.show()\n",
    "\n",
    "# Save figure\n",
    "if SAVE_FIGURE == True:\n",
    "    save_fig(fig, f\"Each_Channel_of_Dataset_{COLORIMETRY_SYSTEM}\", DATASET_NAME, DOCUMENT_DIRECTORY)"
   ]
  },
  {
   "cell_type": "markdown",
   "metadata": {},
   "source": [
    "### 2.3.3. Plot RGB-Ratio"
   ]
  },
  {
   "cell_type": "code",
   "execution_count": null,
   "metadata": {},
   "outputs": [],
   "source": [
    "# Compute Red over Blue and Green over Blue values\n",
    "red_over_blue = [r/b if b!=0 else 0 for r, b in zip([k[0][0] for k in reference.keys()], [k[0][2] for k in reference.keys()])]\n",
    "green_over_blue = [g/b if b!=0 else 0 for g, b in zip([k[0][1] for k in reference.keys()], [k[0][2] for k in reference.keys()])]"
   ]
  },
  {
   "cell_type": "code",
   "execution_count": null,
   "metadata": {},
   "outputs": [],
   "source": [
    "# Create subplots\n",
    "fig, axs = plt.subplots(1, 2, figsize=(FIGURE_SIZE[0]*1.5, FIGURE_SIZE[1]))\n",
    "\n",
    "# Plot Red/Blue vs Label\n",
    "axs[0].scatter(labels, red_over_blue, color=colors)\n",
    "axs[0].set_xlabel(f\"{NAME_OF_LABEL} ({LABEL_UNIT})\", **AXIS_FONT)\n",
    "axs[0].set_ylabel('Red/Blue Ratio', **AXIS_FONT)\n",
    "if TITLE_DISPLAY == True:\n",
    "    axs[0].set_title(f'{NAME_OF_LABEL} vs Red/Blue Ratio', **TITLE_FONT)\n",
    "\n",
    "# Plot Green/Blue vs Label\n",
    "axs[1].scatter(labels, green_over_blue, color=colors)\n",
    "axs[1].set_xlabel(f\"{NAME_OF_LABEL} ({LABEL_UNIT})\", **AXIS_FONT)\n",
    "axs[1].set_ylabel('Green/Blue Ratio', **AXIS_FONT)\n",
    "if TITLE_DISPLAY == True:\n",
    "    axs[1].set_title(f'{NAME_OF_LABEL} vs Green/Blue Ratio', **TITLE_FONT)\n",
    "\n",
    "# Display the plots\n",
    "plt.tight_layout()\n",
    "plt.show()\n",
    "\n",
    "# Save figure\n",
    "if SAVE_FIGURE == True:\n",
    "    save_fig(fig, f\"RGB_Over_Blue_{COLORIMETRY_SYSTEM}\", DATASET_NAME, DOCUMENT_DIRECTORY)"
   ]
  },
  {
   "cell_type": "markdown",
   "metadata": {},
   "source": [
    "### 2.3.4. Plot RGB-Ratio over sum"
   ]
  },
  {
   "cell_type": "code",
   "execution_count": null,
   "metadata": {},
   "outputs": [],
   "source": [
    "red_values = [k[0][0] for k in reference.keys()]\n",
    "green_values = [k[0][1] for k in reference.keys()]\n",
    "blue_values = [k[0][2] for k in reference.keys()]\n",
    "\n",
    "red_normalized = [r / (r + g + b) for r, g, b in zip(red_values, green_values, blue_values)]\n",
    "green_normalized = [g / (r + g + b) for r, g, b in zip(red_values, green_values, blue_values)]\n",
    "blue_normalized = [b / (r + g + b) for r, g, b in zip(red_values, green_values, blue_values)]"
   ]
  },
  {
   "cell_type": "code",
   "execution_count": null,
   "metadata": {},
   "outputs": [],
   "source": [
    "# Create subplots\n",
    "fig, axs = plt.subplots(1, 3, figsize=(FIGURE_SIZE[0]*2, FIGURE_SIZE[1]))\n",
    "\n",
    "# Plot Label vs R/R+G+B\n",
    "axs[0].scatter(labels, red_normalized, color=colors)\n",
    "axs[0].set_xlabel(f\"{NAME_OF_LABEL} ({LABEL_UNIT})\", **AXIS_FONT)\n",
    "axs[0].set_ylabel('R/(R+G+B)', **AXIS_FONT)\n",
    "axs[0].set_ylim([0, 1])\n",
    "if TITLE_DISPLAY == True:\n",
    "    axs[0].set_title(f'{NAME_OF_LABEL} vs R/(R+G+B)', **TITLE_FONT)\n",
    "\n",
    "# Plot Label vs G/R+G+B\n",
    "axs[1].scatter(labels, green_normalized, color=colors)\n",
    "axs[1].set_xlabel(f\"{NAME_OF_LABEL} ({LABEL_UNIT})\", **AXIS_FONT)\n",
    "axs[1].set_ylabel('G/(R+G+B)', **AXIS_FONT)\n",
    "axs[1].set_ylim([0, 1])\n",
    "if TITLE_DISPLAY == True:\n",
    "    axs[1].set_title(f'{NAME_OF_LABEL} vs G/(R+G+B)', **TITLE_FONT)\n",
    "\n",
    "# Plot Label vs B/R+G+B\n",
    "axs[2].scatter(labels, blue_normalized, color=colors)\n",
    "axs[2].set_xlabel(f\"{NAME_OF_LABEL} ({LABEL_UNIT})\", **AXIS_FONT)\n",
    "axs[2].set_ylabel('B/(R+G+B)', **AXIS_FONT)\n",
    "axs[2].set_ylim([0, 1])\n",
    "if TITLE_DISPLAY == True:\n",
    "    axs[2].set_title(f'{NAME_OF_LABEL} vs B/(R+G+B)', **TITLE_FONT)\n",
    "\n",
    "# Display the plots\n",
    "plt.tight_layout()\n",
    "plt.show()\n",
    "\n",
    "# Save figure\n",
    "if SAVE_FIGURE == True:\n",
    "    save_fig(fig, f\"RGB_Fraction_Over_Sum_{COLORIMETRY_SYSTEM}\", DATASET_NAME, DOCUMENT_DIRECTORY)"
   ]
  },
  {
   "cell_type": "markdown",
   "metadata": {},
   "source": [
    "### 2.3.5. Plot RGB channel over RGB-Frequency sum"
   ]
  },
  {
   "cell_type": "code",
   "execution_count": null,
   "metadata": {},
   "outputs": [],
   "source": [
    "rgb_sum_numbers = [k[0][0] + k[0][1] + k[0][2] for k in reference.keys()]"
   ]
  },
  {
   "cell_type": "code",
   "execution_count": null,
   "metadata": {},
   "outputs": [],
   "source": [
    "# Create figure and axis\n",
    "fig, ax = plt.subplots(figsize=FIGURE_SIZE)\n",
    "\n",
    "# Scatter plot showing the relationship\n",
    "ax.scatter(rgb_sum_numbers, rgb_combined_freq, color=colors)\n",
    "\n",
    "# Setting labels, title, and other properties\n",
    "ax.set_xlabel('Sum of RGB Numbers', **AXIS_FONT)\n",
    "ax.set_ylabel('Sum of RGB Frequencies', **AXIS_FONT)\n",
    "if TITLE_DISPLAY == True:\n",
    "    ax.set_title('Relationship between Sum of RGB Numbers and RGB Frequencies', **TITLE_FONT)\n",
    "\n",
    "# Display the plot\n",
    "plt.tight_layout()\n",
    "plt.show()\n",
    "\n",
    "# Save the figure\n",
    "if SAVE_FIGURE == True:\n",
    "    save_fig(fig, f\"Sum_of_RGB_Numbers_VS_Sum_of_RGB_Frequencies_{COLORIMETRY_SYSTEM}\", DATASET_NAME, DOCUMENT_DIRECTORY)"
   ]
  },
  {
   "cell_type": "markdown",
   "metadata": {},
   "source": [
    "## 2.4. CMYK"
   ]
  },
  {
   "cell_type": "code",
   "execution_count": null,
   "metadata": {},
   "outputs": [],
   "source": [
    "COLORIMETRY_SYSTEM = \"cmyk\""
   ]
  },
  {
   "cell_type": "code",
   "execution_count": null,
   "metadata": {},
   "outputs": [],
   "source": [
    "# Convert RGB values to CMYK and normalize RGB for coloring\n",
    "cyan_reference = [rgb_to_cmyk(k[0][0], k[0][1], k[0][2])[0] for k in reference.keys()]\n",
    "magenta_reference = [rgb_to_cmyk(k[0][0], k[0][1], k[0][2])[1] for k in reference.keys()]\n",
    "yellow_reference = [rgb_to_cmyk(k[0][0], k[0][1], k[0][2])[2] for k in reference.keys()]\n",
    "black_reference = [rgb_to_cmyk(k[0][0], k[0][1], k[0][2])[3] for k in reference.keys()]"
   ]
  },
  {
   "cell_type": "markdown",
   "metadata": {},
   "source": [
    "### 2.4.1. Plot overall data"
   ]
  },
  {
   "cell_type": "code",
   "execution_count": null,
   "metadata": {},
   "outputs": [],
   "source": [
    "# Create subplots\n",
    "fig, axs = plt.subplots(figsize=FIGURE_SIZE)\n",
    "\n",
    "# Plot Label vs Cyan\n",
    "axs.scatter(labels, cyan_reference, color='cyan', label='Cyan', alpha=0.5)\n",
    "axs.set_xlabel(f\"{NAME_OF_LABEL} ({LABEL_UNIT})\", **AXIS_FONT)\n",
    "axs.set_ylabel('CMYK Value', **AXIS_FONT)\n",
    "axs.set_ylim([0, 1])\n",
    "\n",
    "# Plot Label vs Magenta\n",
    "axs.scatter(labels, magenta_reference, color='magenta', label='Magenta', alpha=0.5)\n",
    "\n",
    "# Plot Label vs Yellow\n",
    "axs.scatter(labels, yellow_reference, color='yellow', label='Yellow', alpha=0.5)\n",
    "\n",
    "# Plot Label vs Black (K)\n",
    "axs.scatter(labels, black_reference, color='black', label='Black', alpha=0.5)\n",
    "\n",
    "if TITLE_DISPLAY == True:\n",
    "    axs.set_title(f'{NAME_OF_LABEL} vs CMYK', **TITLE_FONT)\n",
    "\n",
    "# Add legend to the plot\n",
    "axs.legend(loc='upper center', bbox_to_anchor=(0.5, 1.15), prop=LEGEND_FONT, framealpha=1, ncol=4)\n",
    "\n",
    "# Display the plots\n",
    "plt.tight_layout()\n",
    "plt.show()\n",
    "\n",
    "# Save figure\n",
    "if SAVE_FIGURE == True:\n",
    "    save_fig(fig, f\"Overview_of_Dataset_{COLORIMETRY_SYSTEM}\", DATASET_NAME, DOCUMENT_DIRECTORY)"
   ]
  },
  {
   "cell_type": "markdown",
   "metadata": {},
   "source": [
    "### 2.4.2. Plot each feature"
   ]
  },
  {
   "cell_type": "code",
   "execution_count": null,
   "metadata": {},
   "outputs": [],
   "source": [
    "# Create subplots\n",
    "fig, axs = plt.subplots(1, 4, figsize=(FIGURE_SIZE[0]*2, FIGURE_SIZE[1]))\n",
    "\n",
    "# Plot Label vs Cyan\n",
    "axs[0].scatter(labels, cyan_reference, color=colors)\n",
    "axs[0].set_xlabel(f\"{NAME_OF_LABEL} ({LABEL_UNIT})\", **AXIS_FONT)\n",
    "axs[0].set_ylabel('Cyan Value', **AXIS_FONT)\n",
    "axs[0].set_ylim([0, 1])\n",
    "if TITLE_DISPLAY == True:\n",
    "    axs[0].set_title(f'{NAME_OF_LABEL} vs Cyan', **TITLE_FONT)\n",
    "\n",
    "# Plot Label vs Magenta\n",
    "axs[1].scatter(labels, magenta_reference, color=colors)\n",
    "axs[1].set_xlabel(f\"{NAME_OF_LABEL} ({LABEL_UNIT})\", **AXIS_FONT)\n",
    "axs[1].set_ylabel('Magenta Value', **AXIS_FONT)\n",
    "axs[1].set_ylim([0, 1])\n",
    "if TITLE_DISPLAY == True:\n",
    "    axs[1].set_title(f'{NAME_OF_LABEL} vs Magenta', **TITLE_FONT)\n",
    "\n",
    "# Plot Label vs Yellow\n",
    "axs[2].scatter(labels, yellow_reference, color=colors)\n",
    "axs[2].set_xlabel(f\"{NAME_OF_LABEL} ({LABEL_UNIT})\", **AXIS_FONT)\n",
    "axs[2].set_ylabel('Yellow Value', **AXIS_FONT)\n",
    "axs[2].set_ylim([0, 1])\n",
    "if TITLE_DISPLAY == True:\n",
    "    axs[2].set_title(f'{NAME_OF_LABEL} vs Yellow', **TITLE_FONT)\n",
    "\n",
    "# Plot Label vs Black\n",
    "axs[3].scatter(labels, black_reference, color=colors)\n",
    "axs[3].set_xlabel(f\"{NAME_OF_LABEL} ({LABEL_UNIT})\", **AXIS_FONT)\n",
    "axs[3].set_ylabel('Black Value', **AXIS_FONT)\n",
    "axs[3].set_ylim([0, 1])\n",
    "if TITLE_DISPLAY == True:\n",
    "    axs[3].set_title(f'{NAME_OF_LABEL} vs Black', **TITLE_FONT)\n",
    "\n",
    "# Display the plots\n",
    "plt.tight_layout()\n",
    "plt.show()\n",
    "\n",
    "# Save figure\n",
    "if SAVE_FIGURE == True:\n",
    "    save_fig(fig, f\"Each_Channel_of_Dataset_{COLORIMETRY_SYSTEM}\", DATASET_NAME, DOCUMENT_DIRECTORY)"
   ]
  },
  {
   "cell_type": "markdown",
   "metadata": {},
   "source": [
    "### 2.4.3. Plot CMYK-Ratio"
   ]
  },
  {
   "cell_type": "code",
   "execution_count": null,
   "metadata": {},
   "outputs": [],
   "source": [
    "# Compute CMY over K values\n",
    "cyan_over_black = [c/b if b!=0 else 0 for c, b in zip(cyan_reference, black_reference)]\n",
    "magenta_over_black = [m/b if b!=0 else 0 for m, b in zip(magenta_reference, black_reference)]\n",
    "yellow_over_black = [y/b if b!=0 else 0 for y, b in zip(yellow_reference, black_reference)]"
   ]
  },
  {
   "cell_type": "code",
   "execution_count": null,
   "metadata": {},
   "outputs": [],
   "source": [
    "# Create subplots\n",
    "fig, axs = plt.subplots(1, 3, figsize=(FIGURE_SIZE[0]*2, FIGURE_SIZE[1]))\n",
    "\n",
    "# Plot Cyan/Black vs Label\n",
    "axs[0].scatter(labels, cyan_over_black, color=colors)\n",
    "axs[0].set_xlabel(f\"{NAME_OF_LABEL} ({LABEL_UNIT})\", **AXIS_FONT)\n",
    "axs[0].set_ylabel('Cyan/Black Ratio', **AXIS_FONT)\n",
    "if TITLE_DISPLAY == True:\n",
    "    axs[0].set_title(f'{NAME_OF_LABEL} vs Cyan/Black Ratio', **TITLE_FONT)\n",
    "\n",
    "# Plot Magenta/Black vs Label\n",
    "axs[1].scatter(labels, magenta_over_black, color=colors)\n",
    "axs[1].set_xlabel(f\"{NAME_OF_LABEL} ({LABEL_UNIT})\", **AXIS_FONT)\n",
    "axs[1].set_ylabel('Magenta/Black Ratio', **AXIS_FONT)\n",
    "if TITLE_DISPLAY == True:\n",
    "    axs[1].set_title(f'{NAME_OF_LABEL} vs Magenta/Black Ratio', **TITLE_FONT)\n",
    "\n",
    "# Plot Yellow/Black vs Label\n",
    "axs[2].scatter(labels, yellow_over_black, color=colors)\n",
    "axs[2].set_xlabel(f\"{NAME_OF_LABEL} ({LABEL_UNIT})\", **AXIS_FONT)\n",
    "axs[2].set_ylabel('Yellow/Black Ratio', **AXIS_FONT)\n",
    "if TITLE_DISPLAY == True:\n",
    "    axs[2].set_title(f'{NAME_OF_LABEL} vs Yellow/Black Ratio', **TITLE_FONT)\n",
    "\n",
    "# Display the plots\n",
    "plt.tight_layout()\n",
    "plt.show()\n",
    "\n",
    "# Save figure\n",
    "if SAVE_FIGURE == True:\n",
    "    save_fig(fig, f\"CMYK_Channel_of_Dataset_{COLORIMETRY_SYSTEM}\", DATASET_NAME, DOCUMENT_DIRECTORY)"
   ]
  },
  {
   "cell_type": "markdown",
   "metadata": {},
   "source": [
    "### 2.4.4. Plot CMYK channel over RGB sum"
   ]
  },
  {
   "cell_type": "code",
   "execution_count": null,
   "metadata": {},
   "outputs": [],
   "source": [
    "cyan_normalized = [c / rgb_sum for c, rgb_sum in zip(cyan_reference, rgb_sum_numbers)]\n",
    "magenta_normalized = [m / rgb_sum for m, rgb_sum in zip(magenta_reference, rgb_sum_numbers)]\n",
    "yellow_normalized = [y / rgb_sum for y, rgb_sum in zip(yellow_reference, rgb_sum_numbers)]\n",
    "black_normalized = [k / rgb_sum for k, rgb_sum in zip(black_reference, rgb_sum_numbers)]"
   ]
  },
  {
   "cell_type": "code",
   "execution_count": null,
   "metadata": {},
   "outputs": [],
   "source": [
    "# Create subplots\n",
    "fig, axs = plt.subplots(1, 4, figsize=(FIGURE_SIZE[0]*2.5, FIGURE_SIZE[1]))\n",
    "\n",
    "# Plot Label vs Cyan normalized\n",
    "axs[0].scatter(labels, cyan_normalized, color=colors)\n",
    "axs[0].set_xlabel(f\"{NAME_OF_LABEL} ({LABEL_UNIT})\", **AXIS_FONT)\n",
    "axs[0].set_ylabel('Cyan Value (Normalized)', **AXIS_FONT)\n",
    "axs[0].set_ylim([0, max(cyan_normalized)])\n",
    "if TITLE_DISPLAY == True:\n",
    "    axs[0].set_title(f'{NAME_OF_LABEL} vs Normalized Cyan', **TITLE_FONT)\n",
    "\n",
    "# Plot Label vs Magenta normalized\n",
    "axs[1].scatter(labels, magenta_normalized, color=colors)\n",
    "axs[1].set_xlabel(f\"{NAME_OF_LABEL} ({LABEL_UNIT})\", **AXIS_FONT)\n",
    "axs[1].set_ylabel('Magenta Value (Normalized)', **AXIS_FONT)\n",
    "axs[1].set_ylim([0, max(magenta_normalized)])\n",
    "if TITLE_DISPLAY == True:\n",
    "    axs[1].set_title(f'{NAME_OF_LABEL} vs Normalized Magenta', **TITLE_FONT)\n",
    "\n",
    "# Plot Label vs Yellow normalized\n",
    "axs[2].scatter(labels, yellow_normalized, color=colors)\n",
    "axs[2].set_xlabel(f\"{NAME_OF_LABEL} ({LABEL_UNIT})\", **AXIS_FONT)\n",
    "axs[2].set_ylabel('Yellow Value (Normalized)', **AXIS_FONT)\n",
    "axs[2].set_ylim([0, max(yellow_normalized)])\n",
    "if TITLE_DISPLAY == True:\n",
    "    axs[2].set_title(f'{NAME_OF_LABEL} vs Normalized Yellow', **TITLE_FONT)\n",
    "\n",
    "# Plot Label vs Black normalized\n",
    "axs[3].scatter(labels, black_normalized, color=colors)\n",
    "axs[3].set_xlabel(f\"{NAME_OF_LABEL} ({LABEL_UNIT})\", **AXIS_FONT)\n",
    "axs[3].set_ylabel('Black Value (Normalized)', **AXIS_FONT)\n",
    "axs[3].set_ylim([0, max(black_normalized)])\n",
    "if TITLE_DISPLAY == True:\n",
    "    axs[3].set_title(f'{NAME_OF_LABEL} vs Normalized Black', **TITLE_FONT)\n",
    "\n",
    "# Display the plots\n",
    "plt.tight_layout()\n",
    "plt.show()\n",
    "\n",
    "# Save figure\n",
    "if SAVE_FIGURE == True:\n",
    "    save_fig(fig, f\"Normalized_CMYK_vs_RGB_Sum_{COLORIMETRY_SYSTEM}\", DATASET_NAME, DOCUMENT_DIRECTORY)"
   ]
  },
  {
   "cell_type": "markdown",
   "metadata": {},
   "source": [
    "## 2.5. HSL"
   ]
  },
  {
   "cell_type": "code",
   "execution_count": null,
   "metadata": {},
   "outputs": [],
   "source": [
    "COLORIMETRY_SYSTEM = \"hsl\""
   ]
  },
  {
   "cell_type": "code",
   "execution_count": null,
   "metadata": {},
   "outputs": [],
   "source": [
    "# Convert RGB values to HSL and normalize RGB for coloring\n",
    "hue_reference = [rgb_to_hsl(k[0][0], k[0][1], k[0][2])[0] for k in reference.keys()]\n",
    "saturation_reference = [rgb_to_hsl(k[0][0], k[0][1], k[0][2])[1] for k in reference.keys()]\n",
    "lightness_reference = [rgb_to_hsl(k[0][0], k[0][1], k[0][2])[2] for k in reference.keys()]"
   ]
  },
  {
   "cell_type": "markdown",
   "metadata": {},
   "source": [
    "### 2.5.1. Plot overall data"
   ]
  },
  {
   "cell_type": "code",
   "execution_count": null,
   "metadata": {},
   "outputs": [],
   "source": [
    "# Create subplots\n",
    "fig, axs = plt.subplots(figsize=FIGURE_SIZE)\n",
    "\n",
    "# Plot Label vs Hue\n",
    "axs.scatter(labels, hue_reference, label='Hue', alpha=0.5)\n",
    "axs.set_xlabel(f\"{NAME_OF_LABEL} ({LABEL_UNIT})\", **AXIS_FONT)\n",
    "axs.set_ylabel('HSL Value', **AXIS_FONT)\n",
    "axs.set_ylim([0, 1])\n",
    "\n",
    "# Plot Label vs Saturation\n",
    "axs.scatter(labels, saturation_reference, label='Saturation', alpha=0.5)\n",
    "\n",
    "# Plot Label vs Lightness\n",
    "axs.scatter(labels, lightness_reference, label='Lightness', alpha=0.5)\n",
    "\n",
    "if TITLE_DISPLAY == True:\n",
    "    axs.set_title(f'{NAME_OF_LABEL} vs HSL', **TITLE_FONT)\n",
    "\n",
    "# Add legend to the plot\n",
    "axs.legend(loc='upper center', bbox_to_anchor=(0.5, 1.15), prop=LEGEND_FONT, framealpha=1, ncol=3)\n",
    "\n",
    "# Display the plots\n",
    "plt.tight_layout()\n",
    "plt.show()\n",
    "\n",
    "# Save figure\n",
    "if SAVE_FIGURE == True:\n",
    "    save_fig(fig, f\"Overview_of_Dataset_{COLORIMETRY_SYSTEM}\", DATASET_NAME, DOCUMENT_DIRECTORY)"
   ]
  },
  {
   "cell_type": "markdown",
   "metadata": {},
   "source": [
    "### 2.5.2. Plot each feature"
   ]
  },
  {
   "cell_type": "code",
   "execution_count": null,
   "metadata": {},
   "outputs": [],
   "source": [
    "# Create subplots\n",
    "fig, axs = plt.subplots(1, 3, figsize=(FIGURE_SIZE[0]*2, FIGURE_SIZE[1]))\n",
    "\n",
    "# Plot Label vs Hue\n",
    "axs[0].scatter(labels, hue_reference, color=colors)\n",
    "axs[0].set_xlabel(f\"{NAME_OF_LABEL} ({LABEL_UNIT})\", **AXIS_FONT)\n",
    "axs[0].set_ylabel('Hue Value', **AXIS_FONT)\n",
    "axs[0].set_ylim([0, 1])\n",
    "if TITLE_DISPLAY == True:\n",
    "    axs[0].set_title(f'{NAME_OF_LABEL} vs Hue', **TITLE_FONT)\n",
    "\n",
    "# Plot Label vs Saturation\n",
    "axs[1].scatter(labels, saturation_reference, color=colors)\n",
    "axs[1].set_xlabel(f\"{NAME_OF_LABEL} ({LABEL_UNIT})\", **AXIS_FONT)\n",
    "axs[1].set_ylabel('Saturation Value', **AXIS_FONT)\n",
    "axs[1].set_ylim([0, 1])\n",
    "if TITLE_DISPLAY == True:\n",
    "    axs[1].set_title(f'{NAME_OF_LABEL} vs Saturation', **TITLE_FONT)\n",
    "\n",
    "# Plot Label vs Lightness\n",
    "axs[2].scatter(labels, lightness_reference, color=colors)\n",
    "axs[2].set_xlabel(f\"{NAME_OF_LABEL} ({LABEL_UNIT})\", **AXIS_FONT)\n",
    "axs[2].set_ylabel('Lightness Value', **AXIS_FONT)\n",
    "axs[2].set_ylim([0, 1])\n",
    "if TITLE_DISPLAY == True:\n",
    "    axs[2].set_title(f'{NAME_OF_LABEL} vs Lightness', **TITLE_FONT)\n",
    "\n",
    "# Display the plots\n",
    "plt.tight_layout()\n",
    "plt.show()\n",
    "\n",
    "# Save figure\n",
    "if SAVE_FIGURE == True:\n",
    "    save_fig(fig, f\"Each_Channel_of_Dataset_{COLORIMETRY_SYSTEM}\", DATASET_NAME, DOCUMENT_DIRECTORY)"
   ]
  },
  {
   "cell_type": "markdown",
   "metadata": {},
   "source": [
    "### 2.5.3. Plot HSL-Ratio"
   ]
  },
  {
   "cell_type": "code",
   "execution_count": null,
   "metadata": {},
   "outputs": [],
   "source": [
    "# Compute H and S over L values\n",
    "hue_over_lightness = [h/l if l!=0 else 0 for h, l in zip(hue_reference, lightness_reference)]\n",
    "saturation_over_lightness = [s/l if l!=0 else 0 for s, l in zip(saturation_reference, lightness_reference)]"
   ]
  },
  {
   "cell_type": "code",
   "execution_count": null,
   "metadata": {},
   "outputs": [],
   "source": [
    "# Create subplots\n",
    "fig, axs = plt.subplots(1, 3, figsize=(FIGURE_SIZE[0]*2, FIGURE_SIZE[1]))\n",
    "\n",
    "# Plot Label vs Hue/Lightness\n",
    "axs[0].scatter(labels, hue_over_lightness, color=colors)\n",
    "axs[0].set_xlabel(f\"{NAME_OF_LABEL} ({LABEL_UNIT})\", **AXIS_FONT)\n",
    "axs[0].set_ylabel('Hue/Lightness Ratio', **AXIS_FONT)\n",
    "axs[0].set_ylim([0, max(hue_over_lightness)+0.1])  # adjusted ylim to fit data\n",
    "if TITLE_DISPLAY == True:\n",
    "    axs[0].set_title(f'{NAME_OF_LABEL} vs Hue/Lightness', **TITLE_FONT)\n",
    "\n",
    "# Plot Label vs Saturation/Lightness\n",
    "axs[1].scatter(labels, saturation_over_lightness, color=colors)\n",
    "axs[1].set_xlabel(f\"{NAME_OF_LABEL} ({LABEL_UNIT})\", **AXIS_FONT)\n",
    "axs[1].set_ylabel('Saturation/Lightness Ratio', **AXIS_FONT)\n",
    "axs[1].set_ylim([0, max(saturation_over_lightness)+0.1])  # adjusted ylim to fit data\n",
    "if TITLE_DISPLAY == True:\n",
    "    axs[1].set_title(f'{NAME_OF_LABEL} vs Saturation/Lightness', **TITLE_FONT)\n",
    "\n",
    "# Plot Label vs Lightness\n",
    "axs[2].scatter(labels, lightness_reference, color=colors)\n",
    "axs[2].set_xlabel(f\"{NAME_OF_LABEL} ({LABEL_UNIT})\", **AXIS_FONT)\n",
    "axs[2].set_ylabel('Lightness Value', **AXIS_FONT)\n",
    "axs[2].set_ylim([0, 1])\n",
    "if TITLE_DISPLAY == True:\n",
    "    axs[2].set_title(f'{NAME_OF_LABEL} vs Lightness', **TITLE_FONT)\n",
    "\n",
    "# Display the plots\n",
    "plt.tight_layout()\n",
    "plt.show()\n",
    "\n",
    "# Save figure\n",
    "if SAVE_FIGURE == True:\n",
    "    save_fig(fig, f\"HSL_Channel_Over_Lightness_{COLORIMETRY_SYSTEM}\", DATASET_NAME, DOCUMENT_DIRECTORY)"
   ]
  },
  {
   "cell_type": "markdown",
   "metadata": {},
   "source": [
    "## 2.6. HSV"
   ]
  },
  {
   "cell_type": "code",
   "execution_count": null,
   "metadata": {},
   "outputs": [],
   "source": [
    "COLORIMETRY_SYSTEM = \"hsv\""
   ]
  },
  {
   "cell_type": "code",
   "execution_count": null,
   "metadata": {},
   "outputs": [],
   "source": [
    "# Convert RGB values to HSV and normalize RGB for coloring\n",
    "hue_reference = [rgb_to_hsv(k[0][0], k[0][1], k[0][2])[0] for k in reference.keys()]\n",
    "saturation_reference = [rgb_to_hsv(k[0][0], k[0][1], k[0][2])[1] for k in reference.keys()]\n",
    "value_reference = [rgb_to_hsv(k[0][0], k[0][1], k[0][2])[2] for k in reference.keys()]"
   ]
  },
  {
   "cell_type": "markdown",
   "metadata": {},
   "source": [
    "### 2.6.1. Plot overall data"
   ]
  },
  {
   "cell_type": "code",
   "execution_count": null,
   "metadata": {},
   "outputs": [],
   "source": [
    "# Create subplots\n",
    "fig, axs = plt.subplots(figsize=FIGURE_SIZE)\n",
    "\n",
    "# Plot Label vs Hue\n",
    "axs.scatter(labels, hue_reference, label='Hue', alpha=0.5)\n",
    "axs.set_xlabel(f\"{NAME_OF_LABEL} ({LABEL_UNIT})\", **AXIS_FONT)\n",
    "axs.set_ylabel('HSV Value', **AXIS_FONT)\n",
    "axs.set_ylim([0, 1])\n",
    "\n",
    "# Plot Label vs Saturation\n",
    "axs.scatter(labels, saturation_reference, label='Saturation', alpha=0.5)\n",
    "\n",
    "# Plot Label vs Value\n",
    "axs.scatter(labels, value_reference, label='Value', alpha=0.5)\n",
    "\n",
    "if TITLE_DISPLAY == True:\n",
    "    axs.set_title(f'{NAME_OF_LABEL} vs HSV', **TITLE_FONT)\n",
    "\n",
    "# Add legend to the plot\n",
    "axs.legend(loc='upper center', bbox_to_anchor=(0.5, 1.15), prop=LEGEND_FONT, framealpha=1, ncol=3)\n",
    "\n",
    "# Display the plots\n",
    "plt.tight_layout()\n",
    "plt.show()\n",
    "\n",
    "# Save figure\n",
    "if SAVE_FIGURE == True:\n",
    "    save_fig(fig, f\"Overview_of_Dataset_{COLORIMETRY_SYSTEM}\", DATASET_NAME, DOCUMENT_DIRECTORY)"
   ]
  },
  {
   "cell_type": "markdown",
   "metadata": {},
   "source": [
    "### 2.6.2. Plot each feature"
   ]
  },
  {
   "cell_type": "code",
   "execution_count": null,
   "metadata": {},
   "outputs": [],
   "source": [
    "# Create subplots\n",
    "fig, axs = plt.subplots(1, 3, figsize=(FIGURE_SIZE[0]*2, FIGURE_SIZE[1]))\n",
    "\n",
    "# Plot Label vs Hue\n",
    "axs[0].scatter(labels, hue_reference, color=colors)\n",
    "axs[0].set_xlabel(f\"{NAME_OF_LABEL} ({LABEL_UNIT})\", **AXIS_FONT)\n",
    "axs[0].set_ylabel('Hue Value', **AXIS_FONT)\n",
    "axs[0].set_ylim([0, 1])\n",
    "if TITLE_DISPLAY == True:\n",
    "    axs[0].set_title(f'{NAME_OF_LABEL} vs Hue', **TITLE_FONT)\n",
    "\n",
    "# Plot Label vs Saturation\n",
    "axs[1].scatter(labels, saturation_reference, color=colors)\n",
    "axs[1].set_xlabel(f\"{NAME_OF_LABEL} ({LABEL_UNIT})\", **AXIS_FONT)\n",
    "axs[1].set_ylabel('Saturation Value', **AXIS_FONT)\n",
    "axs[1].set_ylim([0, 1])\n",
    "if TITLE_DISPLAY == True:\n",
    "    axs[1].set_title(f'{NAME_OF_LABEL} vs Saturation', **TITLE_FONT)\n",
    "\n",
    "# Plot Label vs Value\n",
    "axs[2].scatter(labels, value_reference, color=colors)\n",
    "axs[2].set_xlabel(f\"{NAME_OF_LABEL} ({LABEL_UNIT})\", **AXIS_FONT)\n",
    "axs[2].set_ylabel('Value', **AXIS_FONT)\n",
    "axs[2].set_ylim([0, 1])\n",
    "if TITLE_DISPLAY == True:\n",
    "    axs[2].set_title(f'{NAME_OF_LABEL} vs Value', **TITLE_FONT)\n",
    "\n",
    "# Display the plots\n",
    "plt.tight_layout()\n",
    "plt.show()\n",
    "\n",
    "# Save figure\n",
    "if SAVE_FIGURE == True:\n",
    "    save_fig(fig, f\"Each_Channel_of_Dataset_{COLORIMETRY_SYSTEM}\", DATASET_NAME, DOCUMENT_DIRECTORY)"
   ]
  },
  {
   "cell_type": "markdown",
   "metadata": {},
   "source": [
    "### 2.6.3. Plot HSV-Ratio"
   ]
  },
  {
   "cell_type": "code",
   "execution_count": null,
   "metadata": {},
   "outputs": [],
   "source": [
    "hue_over_value = [h/v if v!=0 else 0 for h, v in zip(hue_reference, value_reference)]\n",
    "saturation_over_value = [s/v if v!=0 else 0 for s, v in zip(saturation_reference, value_reference)]"
   ]
  },
  {
   "cell_type": "code",
   "execution_count": null,
   "metadata": {},
   "outputs": [],
   "source": [
    "# Create subplots\n",
    "fig, axs = plt.subplots(1, 2, figsize=(FIGURE_SIZE[0]*2, FIGURE_SIZE[1]))\n",
    "\n",
    "# Plot Hue/Value vs Label\n",
    "axs[0].scatter(labels, hue_over_value, color=colors)\n",
    "axs[0].set_xlabel(f\"{NAME_OF_LABEL} ({LABEL_UNIT})\", **AXIS_FONT)\n",
    "axs[0].set_ylabel('Hue/Value Ratio', **AXIS_FONT)\n",
    "if TITLE_DISPLAY == True:\n",
    "    axs[0].set_title(f'{NAME_OF_LABEL} vs Hue/Value Ratio', **TITLE_FONT)\n",
    "\n",
    "# Plot Saturation/Value vs Label\n",
    "axs[1].scatter(labels, saturation_over_value, color=colors)\n",
    "axs[1].set_xlabel(f\"{NAME_OF_LABEL} ({LABEL_UNIT})\", **AXIS_FONT)\n",
    "axs[1].set_ylabel('Saturation/Value Ratio', **AXIS_FONT)\n",
    "if TITLE_DISPLAY == True:\n",
    "    axs[1].set_title(f'{NAME_OF_LABEL} vs Saturation/Value Ratio', **TITLE_FONT)\n",
    "\n",
    "# Display the plots\n",
    "plt.tight_layout()\n",
    "plt.show()\n",
    "\n",
    "# Save figure\n",
    "if SAVE_FIGURE == True:\n",
    "    save_fig(fig, f\"HSV_Channel_Over_Value_{COLORIMETRY_SYSTEM}\", DATASET_NAME, DOCUMENT_DIRECTORY)"
   ]
  },
  {
   "cell_type": "markdown",
   "metadata": {},
   "source": [
    "## 2.7. CIELAB"
   ]
  },
  {
   "cell_type": "code",
   "execution_count": null,
   "metadata": {},
   "outputs": [],
   "source": [
    "COLORIMETRY_SYSTEM = \"lab\""
   ]
  },
  {
   "cell_type": "code",
   "execution_count": null,
   "metadata": {},
   "outputs": [],
   "source": [
    "# Convert RGB values to CIELAB and normalize RGB for coloring\n",
    "lightness_reference = [rgb_to_lab(k[0][0], k[0][1], k[0][2])[0] for k in reference.keys()]\n",
    "a_reference = [rgb_to_lab(k[0][0], k[0][1], k[0][2])[1] for k in reference.keys()]\n",
    "b_reference = [rgb_to_lab(k[0][0], k[0][1], k[0][2])[2] for k in reference.keys()]\n"
   ]
  },
  {
   "cell_type": "markdown",
   "metadata": {},
   "source": [
    "### 2.7.1. Plot overall data"
   ]
  },
  {
   "cell_type": "code",
   "execution_count": null,
   "metadata": {},
   "outputs": [],
   "source": [
    "# Create subplots\n",
    "fig, axs = plt.subplots(figsize=FIGURE_SIZE)\n",
    "\n",
    "# Plot Label vs Lightness\n",
    "axs.scatter(labels, lightness_reference, label='Lightness', alpha=0.5)\n",
    "axs.set_xlabel(f\"{NAME_OF_LABEL} ({LABEL_UNIT})\", **AXIS_FONT)\n",
    "axs.set_ylabel('CIELAB Value', **AXIS_FONT)\n",
    "axs.set_ylim([-100, 100])\n",
    "\n",
    "# Plot Label vs Channel a*\n",
    "axs.scatter(labels, a_reference, label='Channel a*', alpha=0.5)\n",
    "\n",
    "# Plot Label vs Channel b*\n",
    "axs.scatter(labels, b_reference, label='Channel b*', alpha=0.5)\n",
    "\n",
    "if TITLE_DISPLAY == True:\n",
    "    axs.set_title(f'{NAME_OF_LABEL} vs CIELAB', **TITLE_FONT)\n",
    "\n",
    "# Add legend to the plot\n",
    "axs.legend(loc='upper center', bbox_to_anchor=(0.5, 1.15), prop=LEGEND_FONT, framealpha=1, ncol=3)\n",
    "\n",
    "# Display the plots\n",
    "plt.tight_layout()\n",
    "plt.show()\n",
    "\n",
    "# Save figure\n",
    "if SAVE_FIGURE == True:\n",
    "    save_fig(fig, f\"Overview_of_Dataset_{COLORIMETRY_SYSTEM}\", DATASET_NAME, DOCUMENT_DIRECTORY)"
   ]
  },
  {
   "cell_type": "markdown",
   "metadata": {},
   "source": [
    "### 2.7.2. Plot each feature"
   ]
  },
  {
   "cell_type": "code",
   "execution_count": null,
   "metadata": {},
   "outputs": [],
   "source": [
    "# Create subplots\n",
    "fig, axs = plt.subplots(1, 3, figsize=(FIGURE_SIZE[0]*2, FIGURE_SIZE[1]))\n",
    "\n",
    "# Plot Label vs Lightness\n",
    "axs[0].scatter(labels, lightness_reference, color=colors)\n",
    "axs[0].set_xlabel(f\"{NAME_OF_LABEL} ({LABEL_UNIT})\", **AXIS_FONT)\n",
    "axs[0].set_ylabel('Lightness Value', **AXIS_FONT)\n",
    "axs[0].set_ylim([0, 100])\n",
    "if TITLE_DISPLAY == True:\n",
    "    axs[0].set_title(f'{NAME_OF_LABEL} vs Lightness', **TITLE_FONT)\n",
    "\n",
    "# Plot Label vs Channel a*\n",
    "axs[1].scatter(labels, a_reference, color=colors)\n",
    "axs[1].set_xlabel(f\"{NAME_OF_LABEL} ({LABEL_UNIT})\", **AXIS_FONT)\n",
    "axs[1].set_ylabel('Channel a* Value', **AXIS_FONT)\n",
    "axs[1].set_ylim([-50, 50])\n",
    "if TITLE_DISPLAY == True:\n",
    "    axs[1].set_title(f'{NAME_OF_LABEL} vs Channel a*', **TITLE_FONT)\n",
    "\n",
    "# Plot Label vs Channel b*\n",
    "axs[2].scatter(labels, b_reference, color=colors)\n",
    "axs[2].set_xlabel(f\"{NAME_OF_LABEL} ({LABEL_UNIT})\", **AXIS_FONT)\n",
    "axs[2].set_ylabel('Channel b* Value', **AXIS_FONT)\n",
    "axs[2].set_ylim([-50, 50])\n",
    "if TITLE_DISPLAY == True:\n",
    "    axs[2].set_title(f'{NAME_OF_LABEL} vs Channel b*', **TITLE_FONT)\n",
    "\n",
    "# Display the plots\n",
    "plt.tight_layout()\n",
    "plt.show()\n",
    "\n",
    "# Save figure\n",
    "if SAVE_FIGURE == True:\n",
    "    save_fig(fig, f\"Each_Channel_of_Dataset_{COLORIMETRY_SYSTEM}\", DATASET_NAME, DOCUMENT_DIRECTORY)"
   ]
  },
  {
   "cell_type": "markdown",
   "metadata": {},
   "source": [
    "### 2.7.3. Plot CIELAB-Ratio"
   ]
  },
  {
   "cell_type": "code",
   "execution_count": null,
   "metadata": {},
   "outputs": [],
   "source": [
    "a_over_lightness = [a/l if l!=0 else 0 for a, l in zip(a_reference, lightness_reference)]\n",
    "b_over_lightness = [b/l if l!=0 else 0 for b, l in zip(b_reference, lightness_reference)]"
   ]
  },
  {
   "cell_type": "code",
   "execution_count": null,
   "metadata": {},
   "outputs": [],
   "source": [
    "# Create subplots\n",
    "fig, axs = plt.subplots(1, 2, figsize=(FIGURE_SIZE[0]*2, FIGURE_SIZE[1]))\n",
    "\n",
    "# Plot a*/Lightness vs Label\n",
    "axs[0].scatter(labels, a_over_lightness, color=colors)\n",
    "axs[0].set_xlabel(f\"{NAME_OF_LABEL} ({LABEL_UNIT})\", **AXIS_FONT)\n",
    "axs[0].set_ylabel('a*/Lightness Ratio', **AXIS_FONT)\n",
    "if TITLE_DISPLAY == True:\n",
    "    axs[0].set_title(f'{NAME_OF_LABEL} vs a*/Lightness Ratio', **TITLE_FONT)\n",
    "\n",
    "# Plot b*/Lightness vs Label\n",
    "axs[1].scatter(labels, b_over_lightness, color=colors)\n",
    "axs[1].set_xlabel(f\"{NAME_OF_LABEL} ({LABEL_UNIT})\", **AXIS_FONT)\n",
    "axs[1].set_ylabel('b*/Lightness Ratio', **AXIS_FONT)\n",
    "if TITLE_DISPLAY == True:\n",
    "    axs[1].set_title(f'{NAME_OF_LABEL} vs b*/Lightness Ratio', **TITLE_FONT)\n",
    "\n",
    "# Display the plots\n",
    "plt.tight_layout()\n",
    "plt.show()\n",
    "\n",
    "# Save figure\n",
    "if SAVE_FIGURE == True:\n",
    "    save_fig(fig, f\"CIELAB_Channel_Over_Lightness_{COLORIMETRY_SYSTEM}\", DATASET_NAME, DOCUMENT_DIRECTORY)"
   ]
  },
  {
   "cell_type": "markdown",
   "metadata": {},
   "source": [
    "# 3. Metrics"
   ]
  },
  {
   "cell_type": "markdown",
   "metadata": {},
   "source": [
    "## 3.1. Local parameters"
   ]
  },
  {
   "cell_type": "code",
   "execution_count": null,
   "metadata": {},
   "outputs": [],
   "source": [
    "TITLE_DISPLAY = True\n",
    "FIGURE_SIZE = (10, 10)\n",
    "SAVE_FIGURE = True"
   ]
  },
  {
   "cell_type": "markdown",
   "metadata": {},
   "source": [
    "## 3.2. Load Data"
   ]
  },
  {
   "cell_type": "code",
   "execution_count": null,
   "metadata": {},
   "outputs": [],
   "source": [
    "color_systems = [\"cmyk\", \"hsl\", \"hsv\", \"lab\", \"rgb\"]\n",
    "color_systems_string = [\"CMYK\", \"HSL\", \"HSV\", \"CIELAB\", \"RGB\"]\n",
    "models = [\"random_forest\", \"gradient_boosting\", \"svm\", \"mlp\"]\n",
    "models_string = [\"Random Forest\", \"Gradient Boosting\", \"SVM\", \"MLP\"]\n",
    "metrics = [\"MAE\", \"MSE\", \"RMSE\", \"R^2\"]\n",
    "metrics_string = [\"MAE\", \"MSE\", \"RMSE\", r\"$R^2$\"]\n",
    "datasets = {}\n",
    "\n",
    "# Load data from files using pandas\n",
    "try:\n",
    "    metrics_dir = os.path.join(DATA_DIRECTORY, \"metrics\")\n",
    "    for color_system in color_systems:\n",
    "        metrics_file = os.path.join(metrics_dir, f\"metrics_{color_system}_{DATASET_NAME}.csv\")\n",
    "        if not os.path.exists(metrics_file):\n",
    "            print(f\"No metric file is found at: {metrics_file}\")\n",
    "        else:\n",
    "            df = pd.read_csv(metrics_file)\n",
    "            datasets[color_system] = df\n",
    "except Exception as e:\n",
    "    print(f\"Loading metric file error: {e}\")"
   ]
  },
  {
   "cell_type": "markdown",
   "metadata": {},
   "source": [
    "## 3.3. Visualize data"
   ]
  },
  {
   "cell_type": "code",
   "execution_count": null,
   "metadata": {},
   "outputs": [],
   "source": [
    "colors = ['red', 'blue', 'green', 'orange', 'purple']\n",
    "\n",
    "# Adjusted model names for two lines\n",
    "models_string = [\"Random\\nForest\", \"Gradient\\nBoosting\", \"SVM\", \"MLP\"]\n",
    "\n",
    "# Plotting\n",
    "fig, axes = plt.subplots(2, 2, figsize=FIGURE_SIZE)\n",
    "axes = axes.ravel()\n",
    "\n",
    "# The gap we want between groups of bars for each model\n",
    "gap = 0.2\n",
    "\n",
    "for i, metric in enumerate(metrics):\n",
    "    bars_positions_list = []\n",
    "    for idx, color_system in enumerate(color_systems):\n",
    "        # Adjusting the bar's x-coordinates to add gaps\n",
    "        bar_positions = np.arange(len(models)) + idx*0.2 + gap * np.arange(len(models))\n",
    "        bars_positions_list.append(bar_positions)\n",
    "        axes[i].bar(bar_positions, datasets[color_system][metric], width=0.2, label=color_systems_string[idx])\n",
    "    if TITLE_DISPLAY:\n",
    "        axes[i].set_title(metrics_string[i], **TITLE_FONT)\n",
    "    # Getting the average position of each group of bars for x-axis labels\n",
    "    average_positions = [np.mean([pos[j] for pos in bars_positions_list]) for j in range(len(models))]\n",
    "    axes[i].set_xticks(average_positions)\n",
    "    axes[i].set_xticklabels(models_string, **AXIS_FONT)\n",
    "    #axes[i].set_xlabel('Model', **AXIS_FONT)\n",
    "    axes[i].set_ylabel(metrics_string[i], **AXIS_FONT)\n",
    "    if metric == \"R^2\": # Bound R^2 plot from 0 to 1\n",
    "        axes[i].set_ylim([0, 1])\n",
    "\n",
    "# Add a single legend to the figure\n",
    "handles, labels = axes[0].get_legend_handles_labels()\n",
    "fig.legend(handles, labels, loc='upper center', ncol=len(color_systems), prop=LEGEND_FONT, bbox_to_anchor=(0.5, 1.05))\n",
    "\n",
    "# Display the plots\n",
    "plt.tight_layout()\n",
    "plt.show()\n",
    "\n",
    "# Save the figure\n",
    "if SAVE_FIGURE == True:\n",
    "    save_fig(fig, f\"Metric_Scores\", DATASET_NAME, DOCUMENT_DIRECTORY)"
   ]
  },
  {
   "cell_type": "markdown",
   "metadata": {},
   "source": [
    "# 4. Cross-validation"
   ]
  },
  {
   "cell_type": "markdown",
   "metadata": {},
   "source": [
    "## 4.1. Local parameters"
   ]
  },
  {
   "cell_type": "code",
   "execution_count": null,
   "metadata": {},
   "outputs": [],
   "source": [
    "# Data\n",
    "SAMPLE_NAME = \"albumin\"\n",
    "PREDICTIONS_DIRECTORY = os.path.join(DATA_DIRECTORY, \"predictions\")\n",
    "PREDICTION_FILE = f\"prediction_corrected_{SAMPLE_NAME}_{DATASET_NAME}.csv\"\n",
    "TESTS_DIRECTORY = os.path.join(DATA_DIRECTORY, \"tests\")\n",
    "TEST_FILE = f\"test_{SAMPLE_NAME}_{DATASET_NAME}.csv\"\n",
    "\n",
    "# Plot\n",
    "TITLE_DISPLAY = True\n",
    "FIGURE_SIZE = (5, 5)\n",
    "SAVE_FIGURE = True\n",
    "FILTERED = False\n",
    "FILTER_RANGE = (10, 80)"
   ]
  },
  {
   "cell_type": "markdown",
   "metadata": {},
   "source": [
    "## 4.2. Load data"
   ]
  },
  {
   "cell_type": "code",
   "execution_count": null,
   "metadata": {},
   "outputs": [],
   "source": [
    "prediction_df = pd.read_csv(os.path.join(PREDICTIONS_DIRECTORY, PREDICTION_FILE))\n",
    "test_df = pd.read_csv(os.path.join(TESTS_DIRECTORY, TEST_FILE))\n",
    "\n",
    "validation_df = pd.DataFrame({\n",
    "    'Label_Name': prediction_df['Label_Name'],\n",
    "    'Red': prediction_df['Red'],\n",
    "    'Green': prediction_df['Green'],\n",
    "    'Blue': prediction_df['Blue'],\n",
    "    'Predicted_Label': prediction_df['Predicted_Label'],\n",
    "    'Conc': test_df.set_index('Label_Name').loc[prediction_df['Label_Name'], 'Conc'].values\n",
    "})\n",
    "\n",
    "# Drop rows where 'Conc' is '( - )'\n",
    "validation_df = validation_df[validation_df['Conc'] != '( - )']\n",
    "\n",
    "# Now, convert the columns to float\n",
    "validation_df['Predicted_Label'] = validation_df['Predicted_Label'].astype(float)\n",
    "validation_df['Conc'] = validation_df['Conc'].astype(float)\n",
    "validation_df = validation_df.dropna()\n",
    "\n",
    "# Filter the dataframe based on the criteria\n",
    "if FILTERED == True:\n",
    "    validation_df = validation_df[validation_df['Conc'].between(FILTER_RANGE[0], FILTER_RANGE[1])]"
   ]
  },
  {
   "cell_type": "code",
   "execution_count": null,
   "metadata": {},
   "outputs": [],
   "source": [
    "validation_df.head()"
   ]
  },
  {
   "cell_type": "markdown",
   "metadata": {},
   "source": [
    "## 4.3. Visualization"
   ]
  },
  {
   "cell_type": "code",
   "execution_count": null,
   "metadata": {},
   "outputs": [],
   "source": [
    "# Colors based on RGB values from 'validation_df'\n",
    "colors = [(row['Red']/255, row['Green']/255, row['Blue']/255) for _, row in validation_df.iterrows()]"
   ]
  },
  {
   "cell_type": "code",
   "execution_count": null,
   "metadata": {},
   "outputs": [],
   "source": [
    "# Create subplots\n",
    "fig, ax = plt.subplots(figsize=(FIGURE_SIZE[0], FIGURE_SIZE[1]))\n",
    "\n",
    "# Plot Conc vs Predicted_Label\n",
    "ax.scatter(validation_df['Conc'], validation_df['Predicted_Label'], color=colors)\n",
    "ax.set_xlabel(f\"Actual {NAME_OF_LABEL} ({LABEL_UNIT})\", **AXIS_FONT)\n",
    "ax.set_ylabel(f\"Predicted {NAME_OF_LABEL} ({LABEL_UNIT})\", **AXIS_FONT)\n",
    "\n",
    "# Plotting the line for R-squared = 1\n",
    "min_val = min(validation_df['Predicted_Label'].min(), validation_df['Conc'].min())\n",
    "max_val = max(validation_df['Predicted_Label'].max(), validation_df['Conc'].max())\n",
    "ax.plot([min_val, max_val], [min_val, max_val], 'r--', label='$R^2=1$ Line')\n",
    "\n",
    "if TITLE_DISPLAY == True:\n",
    "    ax.set_title(f'{NAME_OF_LABEL} Cross-validation', **TITLE_FONT)\n",
    "\n",
    "# Display the plots\n",
    "plt.tight_layout()\n",
    "plt.legend(prop=LEGEND_FONT, framealpha=1)\n",
    "plt.show()\n",
    "\n",
    "# Save figure\n",
    "if SAVE_FIGURE == True:\n",
    "    save_fig(fig, f\"Cross-validation_{SAMPLE_NAME}_{COLORIMETRY_SYSTEM}\", DATASET_NAME, DOCUMENT_DIRECTORY)"
   ]
  },
  {
   "cell_type": "code",
   "execution_count": null,
   "metadata": {},
   "outputs": [],
   "source": [
    "# Calculate correlation\n",
    "correlation = validation_df['Predicted_Label'].corr(validation_df['Conc'])\n",
    "\n",
    "# Calculate the regression line's slope and intercept\n",
    "slope, intercept = np.polyfit(validation_df['Conc'], validation_df['Predicted_Label'], 1)\n",
    "\n",
    "# Calculate the R-squared value\n",
    "r_squared = correlation**2\n",
    "\n",
    "# Store the results in a new dataframe\n",
    "validation_results_df = pd.DataFrame({\n",
    "    'R-squared': [r_squared],\n",
    "    'Correlation': [correlation],\n",
    "    'Slope': [slope],\n",
    "    'Intercept': [intercept],\n",
    "})"
   ]
  },
  {
   "cell_type": "code",
   "execution_count": null,
   "metadata": {},
   "outputs": [],
   "source": [
    "validation_results_df.head()"
   ]
  }
 ],
 "metadata": {
  "kernelspec": {
   "display_name": "color_sensor_dev_env",
   "language": "python",
   "name": "python3"
  },
  "language_info": {
   "codemirror_mode": {
    "name": "ipython",
    "version": 3
   },
   "file_extension": ".py",
   "mimetype": "text/x-python",
   "name": "python",
   "nbconvert_exporter": "python",
   "pygments_lexer": "ipython3",
   "version": "3.9.2"
  },
  "orig_nbformat": 4
 },
 "nbformat": 4,
 "nbformat_minor": 2
}
