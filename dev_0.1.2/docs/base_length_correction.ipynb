{
 "cells": [
  {
   "cell_type": "markdown",
   "metadata": {},
   "source": [
    "# Base Length Correciotn\n",
    "---\n",
    "Author: Min Joh <br>\n",
    "Contributor: Min Joh, Hyunji Cha, Surjith Kumaran <br>\n",
    "Created: 2024-12-23 <br>\n",
    "Occupation: SEED Lab, Department of Chemical and Material Engineering, University of Alberta <br>\n",
    "Supervisor: Hyo-jick Choi <br>"
   ]
  },
  {
   "cell_type": "markdown",
   "metadata": {},
   "source": [
    "# 1. Setups"
   ]
  },
  {
   "cell_type": "markdown",
   "metadata": {},
   "source": [
    "## 1.1. Import packages"
   ]
  },
  {
   "cell_type": "code",
   "execution_count": 48,
   "metadata": {},
   "outputs": [],
   "source": [
    "import os\n",
    "import math\n",
    "import numpy as np\n",
    "import pandas as pd\n",
    "import matplotlib.pyplot as plt\n",
    "import joblib"
   ]
  },
  {
   "cell_type": "markdown",
   "metadata": {},
   "source": [
    "## 1.2. Configurations"
   ]
  },
  {
   "cell_type": "code",
   "execution_count": 49,
   "metadata": {},
   "outputs": [],
   "source": [
    "class CFG:\n",
    "    \"\"\"\n",
    "    Configuration class for the Base Length Correciton\n",
    "    : adjusting the color inputs based on the background lightness\n",
    "    \"\"\"\n",
    "\n",
    "    # ========== Input Data ==========\n",
    "    INPUT_DATASET_FILE_NAME = os.path.join(\"..\", \"data\", \"tests\", \"BCA_unknown_sample_4.csv\")\n",
    "\n",
    "    # ========== Reference Data ===========\n",
    "    RGB_CALIBRATION_FILE_NAME = os.path.join(\"..\", \"data\", \"calibration.txt\")\n",
    "    BASE_LENGTH_CORRECTION_FILE_NAME = os.path.join(\"..\", \"data\", \"base_length.csv\")\n",
    "\n",
    "    # ========== Output Data ==========\n",
    "    OUTPUT_DATASET_FILE_NAME = os.path.join(\"..\", \"data\", \"tests\", \"BCA_unknown_sample_4_corrected.csv\")\n",
    "    SAVE_OUTPUT = True\n",
    "\n",
    "    # ========== Figure Options ===========\n",
    "    DISPLAY_FIGURE = True\n",
    "    SAVE_FIGURE = False"
   ]
  },
  {
   "cell_type": "code",
   "execution_count": 50,
   "metadata": {},
   "outputs": [],
   "source": [
    "# Define a function to save figure\n",
    "def save_fig(fig, fig_name, dir_name=''):\n",
    "    try:\n",
    "        # Create /docs directory if doesn't exist\n",
    "        if not dir_name == '' and not os.path.exists(dir_name):\n",
    "            os.makedirs(dir_name)\n",
    "            print(f\"Document directory is created at: {dir_name}\")\n",
    "\n",
    "        # Save the figure\n",
    "        fig_name = fig_name.lower().replace(\" \", \"_\")\n",
    "        if dir_name == '':\n",
    "            fig_file = f\"{fig_name}.png\"\n",
    "        else:\n",
    "            fig_file = os.path.join(dir_name, f\"{fig_name}.png\")\n",
    "        fig.savefig(fig_file, dpi=300)\n",
    "        print(f\"Figure saved at: {os.path.abspath(fig_file)}\")\n",
    "\n",
    "    except Exception as e:\n",
    "        print(\"Saving figure error occurred: {e}\")"
   ]
  },
  {
   "cell_type": "code",
   "execution_count": 51,
   "metadata": {},
   "outputs": [
    {
     "name": "stdout",
     "output_type": "stream",
     "text": [
      "Input File: ..\\data\\tests\\BCA_unknown_sample_4.csv\n",
      "Output File: ..\\data\\tests\\BCA_unknown_sample_4_corrected.csv\n"
     ]
    }
   ],
   "source": [
    "print(f\"Input File: {CFG.INPUT_DATASET_FILE_NAME}\\nOutput File: {CFG.OUTPUT_DATASET_FILE_NAME}\")"
   ]
  },
  {
   "cell_type": "markdown",
   "metadata": {},
   "source": [
    "## 1.4. Load Data"
   ]
  },
  {
   "cell_type": "markdown",
   "metadata": {},
   "source": [
    "### 1.4.1. Input Dataset"
   ]
  },
  {
   "cell_type": "code",
   "execution_count": 52,
   "metadata": {},
   "outputs": [
    {
     "name": "stdout",
     "output_type": "stream",
     "text": [
      "Size of Input Data: (60, 9)\n",
      "\n",
      "  Label  concentration  Red_Frequency  Green_Frequency  Blue_Frequency  \\\n",
      "0  1-D1         27.137    17222.77386     12218.640720     14025.46187   \n",
      "1  1-D2         21.348    15615.20850     10384.401570     12940.11302   \n",
      "2  1-D3         23.882    16072.44909     10987.612250     13515.36953   \n",
      "3  1-D4         22.754    13617.97394      8742.826951     11378.35390   \n",
      "4  1-D5         22.191    13916.67012      9007.579191     11640.41152   \n",
      "\n",
      "   Clear_Frequency         Red       Green        Blue  \n",
      "0      20788.82024  139.261697  115.225831  151.833606  \n",
      "1      31941.19535  117.234706   82.938699  132.495897  \n",
      "2      19418.47619  124.827208   93.197281  142.564882  \n",
      "3      31477.34422   87.457310   53.880864  102.136404  \n",
      "4      31897.39950   91.729833   58.563872  107.083705  \n"
     ]
    }
   ],
   "source": [
    "# Load input dataset\n",
    "input_df = pd.read_csv(CFG.INPUT_DATASET_FILE_NAME)\n",
    "print(f\"Size of Input Data: {input_df.shape}\\n\")\n",
    "print(input_df.head())"
   ]
  },
  {
   "cell_type": "markdown",
   "metadata": {},
   "source": [
    "### 1.4.2. RGB Calibration Data"
   ]
  },
  {
   "cell_type": "code",
   "execution_count": 53,
   "metadata": {},
   "outputs": [],
   "source": [
    "# Define a function to load sensor calibration data\n",
    "def load_calibration_data(calibration_data_path):\n",
    "    # Check if the data file exists\n",
    "    if not os.path.exists(calibration_data_path):\n",
    "        print(f\"No calibration data found at: {os.path.abspath(calibration_data_path)}\")\n",
    "        return None, None\n",
    "\n",
    "    # Load the global_min and global_max data\n",
    "    try:\n",
    "        with open(calibration_data_path, 'r') as file:\n",
    "            lines = file.readlines()\n",
    "            global_min = [float(val) for val in lines[0].split(\":\")[1].strip()[1:-1].split(\", \")]\n",
    "            global_max = [float(val) for val in lines[1].split(\":\")[1].strip()[1:-1].split(\", \")]\n",
    "        print(f\"Calibration data loaded from: {os.path.abspath(calibration_data_path)}\")\n",
    "    except Exception as e:\n",
    "        print(f\"Calibration data load error occurred: {e}\")\n",
    "        return None, None\n",
    "\n",
    "    return global_min, global_max"
   ]
  },
  {
   "cell_type": "code",
   "execution_count": 54,
   "metadata": {},
   "outputs": [
    {
     "name": "stdout",
     "output_type": "stream",
     "text": [
      "Calibration data loaded from: d:\\johmi\\UAlberta Research Projects\\Color_Sensor\\Programs\\dev_0.1.2\\data\\calibration.txt\n",
      "Global Min = [7732.000584094109, 5676.123202123859, 5978.362954574857, 14314.33181520495]\n",
      "Global Max = [24874.066158777456, 20190.11600897794, 19428.380161543977, 31251.29160430175]\n"
     ]
    }
   ],
   "source": [
    "# Set the minimum and maximum RGB conversion domain\n",
    "global_min, global_max = load_calibration_data(CFG.RGB_CALIBRATION_FILE_NAME)\n",
    "print(f\"Global Min = {global_min}\\nGlobal Max = {global_max}\")"
   ]
  },
  {
   "cell_type": "markdown",
   "metadata": {},
   "source": [
    "### 1.4.3. Base Length Correction Data"
   ]
  },
  {
   "cell_type": "code",
   "execution_count": 55,
   "metadata": {},
   "outputs": [
    {
     "name": "stdout",
     "output_type": "stream",
     "text": [
      "   Red_Frequency  Green_Frequency  Blue_Frequency  Clear_Frequency  \\\n",
      "0    25170.28286      20621.68811     19584.55214      31705.83103   \n",
      "1    25108.68826      20670.45279     19579.05955      31713.89003   \n",
      "2    24885.16705      20272.14887     19310.39994      31413.69885   \n",
      "3    29224.10873      24000.90911     22654.53076      35188.90953   \n",
      "4    29344.24354      24135.95569     22820.34428      34733.69585   \n",
      "\n",
      "          Red  Green        Blue Well_Row  \n",
      "0  255.000000  255.0  255.000000        A  \n",
      "1  255.000000  255.0  255.000000        A  \n",
      "2  252.976748  255.0  251.602587        A  \n",
      "3  255.000000  255.0  255.000000        B  \n",
      "4  255.000000  255.0  255.000000        B  \n"
     ]
    }
   ],
   "source": [
    "# Load base length correction data\n",
    "blc_df = pd.read_csv(CFG.BASE_LENGTH_CORRECTION_FILE_NAME)\n",
    "print(blc_df.head())"
   ]
  },
  {
   "cell_type": "markdown",
   "metadata": {},
   "source": [
    "# 2. Set Base Length Correction Standard"
   ]
  },
  {
   "cell_type": "code",
   "execution_count": 56,
   "metadata": {},
   "outputs": [
    {
     "name": "stdout",
     "output_type": "stream",
     "text": [
      "  Well_Row  Mean_Frequency_Sum  Std_Frequency_Sum  Normalization_Factor\n",
      "0        A        65067.479857         519.491643              0.835841\n",
      "1        B        76088.358227         210.517754              0.977413\n",
      "2        C        77846.682797         302.797284              1.000000\n",
      "3        D        75873.606040         405.714480              0.974654\n",
      "4        E        71794.878300         520.255347              0.922260\n",
      "5        F        66255.148963         313.976613              0.851098\n",
      "6        G        61264.519043         679.857523              0.786989\n",
      "7        H        54979.853340         296.943926              0.706258\n"
     ]
    }
   ],
   "source": [
    "# Add a new column for the sum of frequencies\n",
    "blc_df['Frequency_Sum'] = blc_df[['Red_Frequency', 'Green_Frequency', 'Blue_Frequency']].sum(axis=1)\n",
    "\n",
    "# Group by 'Well_Row' and calculate the mean and standard deviation of the sums\n",
    "normalization_df = blc_df.groupby('Well_Row')['Frequency_Sum'].agg(['mean', 'std']).reset_index()\n",
    "\n",
    "# Rename columns for clarity\n",
    "normalization_df.rename(columns={'mean': 'Mean_Frequency_Sum', 'std': 'Std_Frequency_Sum'}, inplace=True)\n",
    "\n",
    "# Calculate the brightest value\n",
    "brightest_value = normalization_df['Mean_Frequency_Sum'].max()\n",
    "\n",
    "# Create the normalization factor for each Well_Row\n",
    "normalization_df['Normalization_Factor'] = normalization_df['Mean_Frequency_Sum'] / brightest_value\n",
    "\n",
    "# Display the processed data\n",
    "print(normalization_df)"
   ]
  },
  {
   "cell_type": "code",
   "execution_count": 57,
   "metadata": {},
   "outputs": [
    {
     "name": "stdout",
     "output_type": "stream",
     "text": [
      "Figure saved at: d:\\johmi\\UAlberta Research Projects\\Color_Sensor\\Programs\\dev_0.1.2\\docs\\sum_of_rgb_frequencies_for_each_row.png\n"
     ]
    },
    {
     "data": {
      "image/png": "[encoded data removed]",
      "text/plain": [
       "<Figure size 1000x600 with 1 Axes>"
      ]
     },
     "metadata": {},
     "output_type": "display_data"
    }
   ],
   "source": [
    "# Create an error bar plot without connected lines\n",
    "fig1, ax1 = plt.subplots(figsize=(10, 6))  # Use plt.subplots() to get both Figure and Axes\n",
    "figure_title = \"Sum of RGB Frequencies for Each Row\"\n",
    "\n",
    "ax1.errorbar(\n",
    "    normalization_df['Well_Row'], \n",
    "    normalization_df['Mean_Frequency_Sum'], \n",
    "    yerr=normalization_df['Std_Frequency_Sum'], \n",
    "    fmt='o', \n",
    "    capsize=5, \n",
    "    elinewidth=2, \n",
    "    markeredgewidth=2,\n",
    "    color='black'\n",
    ")\n",
    "\n",
    "ax1.set_xlabel('Well_Row')  # Use set_xlabel for Axes\n",
    "ax1.set_ylabel('Frequency_Sum Statistics')  # Use set_ylabel for Axes\n",
    "ax1.set_title(figure_title)  # Use set_title for Axes\n",
    "ax1.grid(axis='y', linestyle='--', alpha=0.7)\n",
    "fig1.tight_layout()  # Use tight_layout() on the Figure\n",
    "\n",
    "if CFG.DISPLAY_FIGURE == True:\n",
    "    save_fig(fig1, figure_title)\n",
    "\n",
    "if CFG.DISPLAY_FIGURE == True:\n",
    "    plt.show()"
   ]
  },
  {
   "cell_type": "markdown",
   "metadata": {},
   "source": [
    "# 3. Apply Base Length Correciton"
   ]
  },
  {
   "cell_type": "code",
   "execution_count": 58,
   "metadata": {},
   "outputs": [
    {
     "name": "stdout",
     "output_type": "stream",
     "text": [
      "  Label  concentration  Red_Frequency  Green_Frequency  Blue_Frequency  \\\n",
      "0  1-D1         27.137   17670.648379     12536.383836    14390.190980   \n",
      "1  1-D2         21.348   16021.278628     10654.445693    13276.617867   \n",
      "2  1-D3         23.882   16490.409661     11273.342736    13866.833799   \n",
      "3  1-D4         22.754   13972.106414      8970.182280    11674.245538   \n",
      "4  1-D5         22.191   14278.570124      9241.819345    11943.117910   \n",
      "\n",
      "   Clear_Frequency         Red       Green        Blue Well_Row  \\\n",
      "0      20788.82024  147.844213  120.529649  159.480550        D   \n",
      "1      31941.19535  123.308705   87.465403  138.368225        D   \n",
      "2      19418.47619  130.287351   98.338962  149.558178        D   \n",
      "3      31477.34422   92.825860   57.874155  107.988714        D   \n",
      "4      31897.39950   97.384719   62.646615  113.086288        D   \n",
      "\n",
      "   Normalization_Factor  \n",
      "0              0.974654  \n",
      "1              0.974654  \n",
      "2              0.974654  \n",
      "3              0.974654  \n",
      "4              0.974654  \n"
     ]
    }
   ],
   "source": [
    "# Copy from the original data\n",
    "output_df = input_df.copy()\n",
    "output_df.columns = output_df.columns.str.strip()\n",
    "\n",
    "# Add a new column to extract the Well_Row from the Label (e.g., \"1_D1\" -> \"D\")\n",
    "output_df['Well_Row'] = output_df['Label'].str.split('-').str[-1].str[0]\n",
    "\n",
    "# Create a mapping of Well_Row to Normalization_Factor from normalization_df\n",
    "normalization_mapping = normalization_df.set_index('Well_Row')['Normalization_Factor']\n",
    "\n",
    "# Map the Normalization_Factor to output_df based on Well_Row\n",
    "output_df['Normalization_Factor'] = output_df['Well_Row'].map(normalization_mapping)\n",
    "\n",
    "# Normalize frequency columns by dividing by the corresponding Normalization_Factor\n",
    "frequency_columns = ['Red_Frequency', 'Green_Frequency', 'Blue_Frequency']\n",
    "for col in frequency_columns:\n",
    "    output_df[col] = output_df[col] / output_df['Normalization_Factor']\n",
    "\n",
    "# Map global min and max values to the corresponding columns\n",
    "min_max_mapping = {\n",
    "    'Red': (global_min[0], global_max[0]),\n",
    "    'Green': (global_min[1], global_max[1]),\n",
    "    'Blue': (global_min[2], global_max[2])\n",
    "}\n",
    "\n",
    "# Apply linear interpolation for each color channel\n",
    "for color in ['Red', 'Green', 'Blue']:\n",
    "    min_val, max_val = min_max_mapping[color]\n",
    "    # Apply the formula to scale values between 0 and 255\n",
    "    output_df[color] = ((output_df[f'{color}_Frequency'] - min_val) / (max_val - min_val)) * 255\n",
    "    # Clip values to ensure they stay within the 0 to 255 range\n",
    "    output_df[color] = output_df[color].clip(0, 255)\n",
    "\n",
    "# Display the results\n",
    "print(output_df.head())\n"
   ]
  },
  {
   "cell_type": "code",
   "execution_count": 59,
   "metadata": {},
   "outputs": [],
   "source": [
    "if CFG.SAVE_OUTPUT == True:\n",
    "    output_df.to_csv(CFG.OUTPUT_DATASET_FILE_NAME, index=False)"
   ]
  }
 ],
 "metadata": {
  "kernelspec": {
   "display_name": "color_sensor_project_env",
   "language": "python",
   "name": "python3"
  },
  "language_info": {
   "codemirror_mode": {
    "name": "ipython",
    "version": 3
   },
   "file_extension": ".py",
   "mimetype": "text/x-python",
   "name": "python",
   "nbconvert_exporter": "python",
   "pygments_lexer": "ipython3",
   "version": "3.13.1"
  }
 },
 "nbformat": 4,
 "nbformat_minor": 2
}
